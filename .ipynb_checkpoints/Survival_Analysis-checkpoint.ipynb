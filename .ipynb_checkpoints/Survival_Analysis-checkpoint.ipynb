{
 "cells": [
  {
   "cell_type": "code",
   "execution_count": 3,
   "metadata": {},
   "outputs": [],
   "source": [
    "import numpy as np\n",
    "import pandas as pd\n",
    "import matplotlib.pyplot as plt\n",
    "import matplotlib.ticker as ticker\n",
    "from matplotlib.lines import Line2D\n",
    "import seaborn as sns\n",
    "from scipy import stats\n",
    "from astropy.table import Table\n",
    "import warnings\n",
    "from astropy.utils.exceptions import AstropyWarning\n",
    "import itertools\n",
    "np.seterr(all='ignore')\n",
    "warnings.simplefilter('ignore', category=AstropyWarning)\n",
    "plt.style.use('dark_background')\n",
    "plt.rcParams.update({'figure.facecolor':'#16191C'})\n",
    "plt.rcParams.update({'axes.facecolor':'#16191C'})\n",
    "%matplotlib widget\n",
    "SA_DIR = '/media/data3/wiseman/stats/survival_analysis/'\n",
    "FIG_DIR = SA_DIR+'figs/'\n",
    "sns.set_color_codes(palette='colorblind')"
   ]
  },
  {
   "cell_type": "markdown",
   "metadata": {},
   "source": [
    "First, read in data. Let's take the Pantheon SN Ia dataset (Scolnic et al. 2018), with over 1000 SNe Ia"
   ]
  },
  {
   "cell_type": "code",
   "execution_count": 4,
   "metadata": {},
   "outputs": [],
   "source": [
    "def rewrite_mass_columns(df,mass_cn,err_cn,pm=False):\n",
    "    '''A function to '''\n",
    "    df.rename(columns={mass_cn:'logm',err_cn:'logm_err'},inplace=True)\n",
    "    if pm:\n",
    "        df['logm_err'] = np.abs(df['logm']-df['logm_err'])\n",
    "    df['detection'] = pd.Series((df['logm_err']>0),index=df.index)\n",
    "    return df"
   ]
  },
  {
   "cell_type": "code",
   "execution_count": 5,
   "metadata": {},
   "outputs": [],
   "source": [
    "pantheon = pd.read_csv('/media/data3/wiseman/des/hosts/ps1_s18.dat',sep = ' ',skipinitialspace=True)\n",
    "pantheon = pantheon[pantheon['HOST_LOGMASS']>5.01]\n",
    "pantheon = rewrite_mass_columns(pantheon,'HOST_LOGMASS','HOST_LOGMASS_ERR')\n"
   ]
  },
  {
   "cell_type": "code",
   "execution_count": 6,
   "metadata": {},
   "outputs": [],
   "source": [
    "def make_cdf(arr):\n",
    "    sorted_arr = np.sort(arr)\n",
    "    cumsum = np.cumsum(sorted_arr)\n",
    "    cumsum /=cumsum[-1]\n",
    "    return sorted_arr,cumsum\n",
    "\n",
    "def perturb_arr_normal(vals,lowerrs,upperrs):\n",
    "    peturbed = np.random.normal(vals,np.mean([lowerrs,upperrs]))\n",
    "    return peturbed"
   ]
  },
  {
   "cell_type": "code",
   "execution_count": 10,
   "metadata": {},
   "outputs": [
    {
     "data": {
      "application/vnd.jupyter.widget-view+json": {
       "model_id": "81a5e7eca936498498d1fec8f01a1d5c",
       "version_major": 2,
       "version_minor": 0
      },
      "text/plain": [
       "Canvas(toolbar=Toolbar(toolitems=[('Home', 'Reset original view', 'home', 'home'), ('Back', 'Back to previous …"
      ]
     },
     "metadata": {},
     "output_type": "display_data"
    }
   ],
   "source": [
    "f,ax=plt.subplots(figsize=(8,6.5))\n",
    "sorted_ms,cdf = make_cdf(pantheon['logm'])\n",
    "ax.step(sorted_ms,cdf,label='Pantheon SNe')\n",
    "ax.set_xlabel('$\\log (M/M_{\\odot})$',size=20)\n",
    "ax.set_ylabel('$F(M)$',size=20)\n",
    "plt.savefig(FIG_DIR+'mass_CDF_raw')"
   ]
  },
  {
   "cell_type": "markdown",
   "metadata": {},
   "source": [
    "So this CDF looks fairly standard, with a long low-mass tail -- I bet these aren't real galaxies (No SNe explode in galaxies with log M < 7, there aren't enough stars. Anyway, we'll save that for later. For now, let's do some sample comparisons. Let's split the data up by their stretch parameter, x1, which is known to correlate with mass (e.g. Sullivan et al. 2010)"
   ]
  },
  {
   "cell_type": "code",
   "execution_count": 31,
   "metadata": {},
   "outputs": [
    {
     "name": "stderr",
     "output_type": "stream",
     "text": [
      "<ipython-input-31-a26489c35d4c>:6: RuntimeWarning: More than 20 figures have been opened. Figures created through the pyplot interface (`matplotlib.pyplot.figure`) are retained until explicitly closed and may consume too much memory. (To control this warning, see the rcParam `figure.max_open_warning`).\n",
      "  f,ax=plt.subplots(figsize=(8,6.5))\n"
     ]
    },
    {
     "data": {
      "application/vnd.jupyter.widget-view+json": {
       "model_id": "22e4df1d78194945884569ee4f892439",
       "version_major": 2,
       "version_minor": 0
      },
      "text/plain": [
       "Canvas(toolbar=Toolbar(toolitems=[('Home', 'Reset original view', 'home', 'home'), ('Back', 'Back to previous …"
      ]
     },
     "metadata": {},
     "output_type": "display_data"
    }
   ],
   "source": [
    "import itertools \n",
    "stretch_cond = pantheon['x1']<0\n",
    "low_stretch_SNe = pantheon[stretch_cond]\n",
    "high_stretch_SNe = pantheon[~stretch_cond]\n",
    "colours = itertools.cycle(['purple','y'])\n",
    "f,ax=plt.subplots(figsize=(8,6.5))\n",
    "for SNe,sample_name in zip([low_stretch_SNe,high_stretch_SNe],['$x_1 <0$','$x_1\\geq0$']):\n",
    "    sorted_ms,cdf = make_cdf(SNe['logm'])\n",
    "    ax.step(sorted_ms,cdf,label=sample_name,c=next(colours))\n",
    "ax.set_xlabel('$\\log (M/M_{\\odot})$',size=20)\n",
    "ax.set_ylabel('$F(M)$',size=20)\n",
    "ax.legend(loc='upper left',fontsize=16)\n",
    "plt.savefig(FIG_DIR+'mass_CDF_split_x1')"
   ]
  },
  {
   "cell_type": "markdown",
   "metadata": {},
   "source": [
    "The low stretch SNe are clearly shifted to higher mass than the high-stretch objects. Usually, people would just do a KS test and be done with it. So let's do that..."
   ]
  },
  {
   "cell_type": "code",
   "execution_count": 10,
   "metadata": {},
   "outputs": [
    {
     "data": {
      "text/plain": [
       "KstestResult(statistic=0.2780124941320911, pvalue=1.6527576345946424e-17)"
      ]
     },
     "execution_count": 10,
     "metadata": {},
     "output_type": "execute_result"
    }
   ],
   "source": [
    "stats.ks_2samp(low_stretch_SNe.logm,high_stretch_SNe.logm)"
   ]
  },
  {
   "cell_type": "markdown",
   "metadata": {},
   "source": [
    "The p-value is tiny; we'd say that these samples are unambiguously drawn from different parent distributions. But, we've made a lot of assumptions -- How do we know that the objects don't have a mass uncertainty that's larger than their differences? What about the x1 split, how many objects are on the wrong side and could that change things? \n",
    "\n",
    "First, let's resample from the mass uncertainties and reestimate the CDF"
   ]
  },
  {
   "cell_type": "code",
   "execution_count": 33,
   "metadata": {},
   "outputs": [
    {
     "name": "stderr",
     "output_type": "stream",
     "text": [
      "<ipython-input-33-8632ff3e2299>:1: RuntimeWarning: More than 20 figures have been opened. Figures created through the pyplot interface (`matplotlib.pyplot.figure`) are retained until explicitly closed and may consume too much memory. (To control this warning, see the rcParam `figure.max_open_warning`).\n",
      "  f,ax=plt.subplots(figsize=(8,6.5))\n"
     ]
    },
    {
     "data": {
      "application/vnd.jupyter.widget-view+json": {
       "model_id": "5ed8893f754b43bf975ab712b55dbb17",
       "version_major": 2,
       "version_minor": 0
      },
      "text/plain": [
       "Canvas(toolbar=Toolbar(toolitems=[('Home', 'Reset original view', 'home', 'home'), ('Back', 'Back to previous …"
      ]
     },
     "metadata": {},
     "output_type": "display_data"
    }
   ],
   "source": [
    "f,ax=plt.subplots(figsize=(8,6.5))\n",
    "for SNe,sample_name in zip([low_stretch_SNe,high_stretch_SNe],['$x_1 <0$','$x_1\\geq0$']):\n",
    "    sorted_ms,cdf = make_cdf(SNe['logm'])\n",
    "    c = next(colours)\n",
    "    ax.step(sorted_ms,cdf,label=sample_name,color=c)\n",
    "    for i in range(100):\n",
    "        perturbed = perturb_arr_normal(SNe['logm'],SNe['logm_err'],SNe['logm_err'])\n",
    "        sorted_ms,cdf = make_cdf(perturbed)\n",
    "        ax.step(sorted_ms,cdf,linewidth=0.025,color=c)\n",
    "ax.set_xlabel('$\\log (M/M_{\\odot})$',size=20)\n",
    "ax.set_ylabel('$F(M)$',size=20)\n",
    "ax.legend(loc='upper left',fontsize=16)\n",
    "plt.savefig(FIG_DIR+'mass_CDF_split_x1_bad_errs')"
   ]
  },
  {
   "cell_type": "markdown",
   "metadata": {},
   "source": [
    "# Uh-oh!\n",
    "The estimated CDFs from resampled data are being dragged out to unphysical low and high masses due to some poorly constrained uncertainties -- our CDF is being entirely driven by the errors"
   ]
  },
  {
   "cell_type": "code",
   "execution_count": 12,
   "metadata": {},
   "outputs": [
    {
     "data": {
      "text/plain": [
       "99.0"
      ]
     },
     "execution_count": 12,
     "metadata": {},
     "output_type": "execute_result"
    }
   ],
   "source": [
    "pantheon['logm_err'].max()"
   ]
  },
  {
   "cell_type": "code",
   "execution_count": 13,
   "metadata": {},
   "outputs": [
    {
     "data": {
      "text/plain": [
       "26"
      ]
     },
     "execution_count": 13,
     "metadata": {},
     "output_type": "execute_result"
    }
   ],
   "source": [
    "len(pantheon[pantheon['logm_err']==99])"
   ]
  },
  {
   "cell_type": "code",
   "execution_count": 14,
   "metadata": {},
   "outputs": [
    {
     "data": {
      "text/plain": [
       "111"
      ]
     },
     "execution_count": 14,
     "metadata": {},
     "output_type": "execute_result"
    }
   ],
   "source": [
    "len(pantheon[pantheon['logm_err']>1])"
   ]
  },
  {
   "cell_type": "markdown",
   "metadata": {},
   "source": [
    "Wow. 111 objects have a mass uncertainty greater than 1 order of magnitude. That's basically saying we have no idea -- there could be 10^9 stars, but also 10^11. Resampling from these broad distributions is completely smearing out our CDF. How should we deal with this? Let's get rid of them first, and see what happens."
   ]
  },
  {
   "cell_type": "code",
   "execution_count": 34,
   "metadata": {},
   "outputs": [
    {
     "name": "stderr",
     "output_type": "stream",
     "text": [
      "<ipython-input-34-21a81119567e>:2: RuntimeWarning: More than 20 figures have been opened. Figures created through the pyplot interface (`matplotlib.pyplot.figure`) are retained until explicitly closed and may consume too much memory. (To control this warning, see the rcParam `figure.max_open_warning`).\n",
      "  f,ax=plt.subplots(figsize=(8,6.5))\n"
     ]
    },
    {
     "data": {
      "application/vnd.jupyter.widget-view+json": {
       "model_id": "cdb01f2656234caeb754365cd1c16920",
       "version_major": 2,
       "version_minor": 0
      },
      "text/plain": [
       "Canvas(toolbar=Toolbar(toolitems=[('Home', 'Reset original view', 'home', 'home'), ('Back', 'Back to previous …"
      ]
     },
     "metadata": {},
     "output_type": "display_data"
    },
    {
     "data": {
      "text/plain": [
       "<matplotlib.legend.Legend at 0x2b95833f27f0>"
      ]
     },
     "execution_count": 34,
     "metadata": {},
     "output_type": "execute_result"
    }
   ],
   "source": [
    "colours = itertools.cycle(['purple','y'])\n",
    "f,ax=plt.subplots(figsize=(8,6.5))\n",
    "for SNe,sample_name in zip([low_stretch_SNe,high_stretch_SNe],['$x_1 <0$','$x_1\\geq0$']):\n",
    "    SNe = SNe[SNe['logm_err']<10]\n",
    "    sorted_ms,cdf = make_cdf(SNe['logm'])\n",
    "    c = next(colours)\n",
    "    ax.step(sorted_ms,cdf,label=sample_name,color=c)\n",
    "    for i in range(100):\n",
    "        perturbed = perturb_arr_normal(SNe['logm'],SNe['logm_err'],SNe['logm_err'])\n",
    "        sorted_ms,cdf = make_cdf(perturbed)\n",
    "        ax.step(sorted_ms,cdf,linewidth=0.025,color=c)\n",
    "ax.set_xlabel('$\\log (M/M_{\\odot})$',size=20)\n",
    "ax.set_ylabel('$F(M)$',size=20)\n",
    "ax.legend(loc='upper left',fontsize=16)"
   ]
  },
  {
   "cell_type": "markdown",
   "metadata": {},
   "source": [
    "We're still a bit off. What's most interesting is what is happening at low and high masses - the CDF is getting blurred a bit. This is because the resampling will always act to pull a few of the high mass objects even higher, and a few of the low mass objects even lower. So maybe this is giving us a better estimate of the _true_ CDF compared to the noisy one given by the point estimates of the data.\n",
    "\n",
    "Pantheon is a compilation of various surveys, each with their own host stellar mass estimation techniques. It appears that some defaulted to different logm_err values if the mass was poorly constrained:"
   ]
  },
  {
   "cell_type": "code",
   "execution_count": 35,
   "metadata": {},
   "outputs": [
    {
     "name": "stderr",
     "output_type": "stream",
     "text": [
      "<ipython-input-35-e54d8954d0cf>:1: RuntimeWarning: More than 20 figures have been opened. Figures created through the pyplot interface (`matplotlib.pyplot.figure`) are retained until explicitly closed and may consume too much memory. (To control this warning, see the rcParam `figure.max_open_warning`).\n",
      "  f,ax=plt.subplots(figsize=(8,6.5))\n"
     ]
    },
    {
     "data": {
      "application/vnd.jupyter.widget-view+json": {
       "model_id": "465235eb57c74a228c10242b6e20e3a5",
       "version_major": 2,
       "version_minor": 0
      },
      "text/plain": [
       "Canvas(toolbar=Toolbar(toolitems=[('Home', 'Reset original view', 'home', 'home'), ('Back', 'Back to previous …"
      ]
     },
     "metadata": {},
     "output_type": "display_data"
    }
   ],
   "source": [
    "f,ax=plt.subplots(figsize=(8,6.5))\n",
    "ax.hist(pantheon.logm_err,bins=np.logspace(-2,2,100))\n",
    "ax.set_xscale('log')\n",
    "ax.set_xlabel('Mass uncertainty',size=20)\n",
    "ax.set_ylabel('Counts',size=20)\n",
    "plt.savefig(FIG_DIR+'masserr_hist')"
   ]
  },
  {
   "cell_type": "markdown",
   "metadata": {},
   "source": [
    "Ok; it looks like errors are lognormally distributed with a cut at about 2. Let's assume that anything with an error larger than that is uncontrained, i.e. the data point is a limit!"
   ]
  },
  {
   "cell_type": "code",
   "execution_count": 36,
   "metadata": {},
   "outputs": [
    {
     "name": "stderr",
     "output_type": "stream",
     "text": [
      "<ipython-input-36-1261987a3c1a>:2: RuntimeWarning: More than 20 figures have been opened. Figures created through the pyplot interface (`matplotlib.pyplot.figure`) are retained until explicitly closed and may consume too much memory. (To control this warning, see the rcParam `figure.max_open_warning`).\n",
      "  f,ax=plt.subplots(figsize=(8,6.5))\n"
     ]
    },
    {
     "data": {
      "application/vnd.jupyter.widget-view+json": {
       "model_id": "9f6551261f3843089820b415cd3ee671",
       "version_major": 2,
       "version_minor": 0
      },
      "text/plain": [
       "Canvas(toolbar=Toolbar(toolitems=[('Home', 'Reset original view', 'home', 'home'), ('Back', 'Back to previous …"
      ]
     },
     "metadata": {},
     "output_type": "display_data"
    }
   ],
   "source": [
    "colours = itertools.cycle(['purple','y'])\n",
    "f,ax=plt.subplots(figsize=(8,6.5))\n",
    "for SNe,sample_name in zip([low_stretch_SNe,high_stretch_SNe],['$x_1 <0$','$x_1\\geq0$']):\n",
    "    SNe = SNe[SNe['logm_err']<2]\n",
    "    sorted_ms,cdf = make_cdf(SNe['logm'])\n",
    "    c = next(colours)\n",
    "    ax.step(sorted_ms,cdf,label=sample_name,color=c)\n",
    "    for i in range(100):\n",
    "        perturbed = perturb_arr_normal(SNe['logm'],SNe['logm_err'],SNe['logm_err'])\n",
    "        sorted_ms,cdf = make_cdf(perturbed)\n",
    "        ax.step(sorted_ms,cdf,linewidth=0.025,color=c)\n",
    "ax.set_xlabel('$\\log (M/M_{\\odot})$',size=20)\n",
    "ax.set_ylabel('$F(M)$',size=20)\n",
    "ax.legend(loc='upper left',fontsize=16)\n",
    "plt.savefig(FIG_DIR+'mass_CDF_split_x1_small_errs')"
   ]
  },
  {
   "cell_type": "markdown",
   "metadata": {},
   "source": [
    "Ok, so we now have 100 resampled CDFs that seem to bound the data for almost the entire range of the data. We're getting there! Let's go and do that horrible KS-testing stuff."
   ]
  },
  {
   "cell_type": "code",
   "execution_count": 20,
   "metadata": {},
   "outputs": [],
   "source": [
    "ks_stats = []\n",
    "for i in range(1000):\n",
    "    samples =[]\n",
    "    for SNe,sample_name in zip([low_stretch_SNe,high_stretch_SNe],['$x_1 <0$','$x_1\\geq0$']):\n",
    "        SNe = SNe[SNe['logm_err']<2]\n",
    "        perturbed = perturb_arr_normal(SNe['logm'],SNe['logm_err'],SNe['logm_err'])\n",
    "        samples.append(perturbed)\n",
    "    stat,pval = stats.ks_2samp(samples[0],samples[1])\n",
    "    ks_stats.append([stat,pval])\n",
    "ks_stats = np.array(ks_stats)    "
   ]
  },
  {
   "cell_type": "code",
   "execution_count": 21,
   "metadata": {},
   "outputs": [
    {
     "name": "stdout",
     "output_type": "stream",
     "text": [
      "KS mean:  [2.86646661e-01 1.96287431e-15]\n",
      "KS std:  [1.12467591e-02 7.96422153e-15]\n"
     ]
    }
   ],
   "source": [
    "print('KS mean: ',np.mean(ks_stats,axis=0))\n",
    "print('KS std: ',np.std(ks_stats,axis=0))"
   ]
  },
  {
   "cell_type": "code",
   "execution_count": 22,
   "metadata": {},
   "outputs": [
    {
     "data": {
      "application/vnd.jupyter.widget-view+json": {
       "model_id": "517184c0a02b4a859d2e2416f8ee5a02",
       "version_major": 2,
       "version_minor": 0
      },
      "text/plain": [
       "Canvas(toolbar=Toolbar(toolitems=[('Home', 'Reset original view', 'home', 'home'), ('Back', 'Back to previous …"
      ]
     },
     "metadata": {},
     "output_type": "display_data"
    },
    {
     "data": {
      "text/plain": [
       "Text(0, 0.5, 'Count')"
      ]
     },
     "execution_count": 22,
     "metadata": {},
     "output_type": "execute_result"
    }
   ],
   "source": [
    "f,ax=plt.subplots(figsize=(8,6.5))\n",
    "ax.hist(ks_stats[:,1],bins=np.logspace(-15,-13,100))\n",
    "ax.set_xscale('log')\n",
    "ax.set_xlabel('KS p-value')\n",
    "ax.set_ylabel('Count')"
   ]
  },
  {
   "cell_type": "markdown",
   "metadata": {},
   "source": [
    "Ok, not a good example as those samples are clearly different. How about SN colour?"
   ]
  },
  {
   "cell_type": "code",
   "execution_count": 29,
   "metadata": {},
   "outputs": [
    {
     "data": {
      "application/vnd.jupyter.widget-view+json": {
       "model_id": "f1d9f58088df41268f93d84c0e73a4d1",
       "version_major": 2,
       "version_minor": 0
      },
      "text/plain": [
       "Canvas(toolbar=Toolbar(toolitems=[('Home', 'Reset original view', 'home', 'home'), ('Back', 'Back to previous …"
      ]
     },
     "metadata": {},
     "output_type": "display_data"
    }
   ],
   "source": [
    "stretch_cond = pantheon['c']<0\n",
    "blue_SNe = pantheon[stretch_cond]\n",
    "red_SNe = pantheon[~stretch_cond]\n",
    "colours = itertools.cycle(['c','r'])\n",
    "f,ax=plt.subplots(figsize=(8,6.5))\n",
    "for SNe,sample_name in zip([blue_SNe,red_SNe],['$c <0$','$c\\geq0$']):\n",
    "    #SNe = SNe[SNe['logm_err']<2]\n",
    "    sorted_ms,cdf = make_cdf(SNe['logm'])\n",
    "    c = next(colours)\n",
    "    \n",
    "    ax.step(sorted_ms,cdf,label=sample_name,color=c)\n",
    "ax.legend(fontsize=16)\n",
    "ax.set_xlabel('$\\log (M/M_{\\odot})$',size=20)\n",
    "ax.set_ylabel('$F(M)$',size=20)\n",
    "plt.savefig(FIG_DIR+'mass_CDF_split_c')"
   ]
  },
  {
   "cell_type": "code",
   "execution_count": 9,
   "metadata": {},
   "outputs": [
    {
     "data": {
      "application/vnd.jupyter.widget-view+json": {
       "model_id": "40394a3e456a4a8e838b46c983356559",
       "version_major": 2,
       "version_minor": 0
      },
      "text/plain": [
       "Canvas(toolbar=Toolbar(toolitems=[('Home', 'Reset original view', 'home', 'home'), ('Back', 'Back to previous …"
      ]
     },
     "metadata": {},
     "output_type": "display_data"
    },
    {
     "data": {
      "application/vnd.jupyter.widget-view+json": {
       "model_id": "7c6c664941ab48bfaedef48c28209277",
       "version_major": 2,
       "version_minor": 0
      },
      "text/plain": [
       "Canvas(toolbar=Toolbar(toolitems=[('Home', 'Reset original view', 'home', 'home'), ('Back', 'Back to previous …"
      ]
     },
     "metadata": {},
     "output_type": "display_data"
    },
    {
     "name": "stdout",
     "output_type": "stream",
     "text": [
      "KS stat:  0.06612608438232039 KS pval:  0.29053979263886043\n",
      "KS mean:  [0.06987598 0.25631619]\n",
      "KS std:  [0.00877381 0.12316067]\n"
     ]
    }
   ],
   "source": [
    "f,ax=plt.subplots(figsize=(8,6.5))\n",
    "\n",
    "samples = []\n",
    "for SNe,sample_name in zip([blue_SNe,red_SNe],['$c <0$','$c\\geq0$']):\n",
    "    SNe = SNe[SNe['logm_err']<2]\n",
    "    sorted_ms,cdf = make_cdf(SNe['logm'])\n",
    "    c = next(colours)\n",
    "    samples.append(SNe.logm)\n",
    "    ax.step(sorted_ms,cdf,label=sample_name,color=c)\n",
    "\n",
    "stat,pval = stats.ks_2samp(samples[0],samples[1])\n",
    "print('KS stat: ',stat,'KS pval: ',pval)\n",
    "ks_stats = []\n",
    "for i in range(1000):\n",
    "    samples = []\n",
    "    for SNe in [blue_SNe,red_SNe]:\n",
    "        c = next(colours)\n",
    "        SNe = SNe[SNe['logm_err']<2]\n",
    "        perturbed = perturb_arr_normal(SNe['logm'],SNe['logm_err'],SNe['logm_err'])\n",
    "        sorted_ms,cdf = make_cdf(perturbed)\n",
    "        ax.step(sorted_ms,cdf,linewidth=0.025,color=c)\n",
    "        samples.append(perturbed)\n",
    "    stat,pval = stats.ks_2samp(samples[0],samples[1])\n",
    "    ks_stats.append([stat,pval])\n",
    "ks_stats = np.array(ks_stats)   \n",
    "ax.set_xlabel('$\\log (M/M_{\\odot})$',size=20)\n",
    "ax.set_ylabel('$F(M)$',size=20)\n",
    "ax.legend(loc='upper left',fontsize=16)\n",
    "plt.savefig(FIG_DIR+'mass_CDF_split_c_small_errs_resamp')\n",
    "print('KS mean: ',np.mean(ks_stats,axis=0))\n",
    "print('KS std: ',np.std(ks_stats,axis=0))"
   ]
  },
  {
   "cell_type": "markdown",
   "metadata": {},
   "source": [
    "We can see that the mean KS values are slightly different from the fiducial one, although well within the uncertainty. But look at the variance of that p-value - it's huge. In this case, the samples are fairly close, but what if we choose a different colour to split our sample at"
   ]
  },
  {
   "cell_type": "code",
   "execution_count": 25,
   "metadata": {},
   "outputs": [
    {
     "data": {
      "application/vnd.jupyter.widget-view+json": {
       "model_id": "1a72febf3ae747b0abeeeb093b56e71e",
       "version_major": 2,
       "version_minor": 0
      },
      "text/plain": [
       "Canvas(toolbar=Toolbar(toolitems=[('Home', 'Reset original view', 'home', 'home'), ('Back', 'Back to previous …"
      ]
     },
     "metadata": {},
     "output_type": "display_data"
    },
    {
     "name": "stdout",
     "output_type": "stream",
     "text": [
      "KS stat:  0.08837029773206201 KS pval:  0.06855218953212117\n",
      "KS mean:  [0.08585638 0.09531291]\n",
      "KS std:  [0.00830981 0.05370809]\n"
     ]
    }
   ],
   "source": [
    "stretch_cond = pantheon['c']<-0.05\n",
    "blue_SNe = pantheon[stretch_cond]\n",
    "red_SNe = pantheon[~stretch_cond]\n",
    "colours = itertools.cycle(['c','r'])\n",
    "\n",
    "f,ax=plt.subplots(figsize=(8,6.5))\n",
    "\n",
    "samples = []\n",
    "for SNe,sample_name in zip([blue_SNe,red_SNe],['$c <0$','$c\\geq0$']):\n",
    "    SNe = SNe[SNe['logm_err']<2]\n",
    "    sorted_ms,cdf = make_cdf(SNe['logm'])\n",
    "    c = next(colours)\n",
    "    samples.append(SNe.logm)\n",
    "    ax.step(sorted_ms,cdf,label=sample_name,color=c)\n",
    "stat,pval = stats.ks_2samp(samples[0],samples[1])\n",
    "print('KS stat: ',stat,'KS pval: ',pval)\n",
    "ks_stats = []\n",
    "for i in range(1000):\n",
    "    samples = []\n",
    "    for SNe in [blue_SNe,red_SNe]:\n",
    "        c = next(colours)\n",
    "        SNe = SNe[SNe['logm_err']<2]\n",
    "        perturbed = perturb_arr_normal(SNe['logm'],SNe['logm_err'],SNe['logm_err'])\n",
    "        sorted_ms,cdf = make_cdf(perturbed)\n",
    "        ax.step(sorted_ms,cdf,linewidth=0.025,color=c)\n",
    "        samples.append(perturbed)\n",
    "    stat,pval = stats.ks_2samp(samples[0],samples[1])\n",
    "    ks_stats.append([stat,pval])\n",
    "ks_stats = np.array(ks_stats)   \n",
    "ax.set_xlabel('$\\log (M/M_{\\odot})$',size=20)\n",
    "ax.set_ylabel('$F(M)$',size=20)\n",
    "ax.legend(loc='upper left',fontsize=16)\n",
    "plt.savefig(FIG_DIR+'mass_CDF_split_c_negative_small_errs')\n",
    "print('KS mean: ',np.mean(ks_stats,axis=0))\n",
    "print('KS std: ',np.std(ks_stats,axis=0))"
   ]
  },
  {
   "cell_type": "code",
   "execution_count": 26,
   "metadata": {},
   "outputs": [
    {
     "data": {
      "application/vnd.jupyter.widget-view+json": {
       "model_id": "2f88c916b91143aaa3df33d165ba94ef",
       "version_major": 2,
       "version_minor": 0
      },
      "text/plain": [
       "Canvas(toolbar=Toolbar(toolitems=[('Home', 'Reset original view', 'home', 'home'), ('Back', 'Back to previous …"
      ]
     },
     "metadata": {},
     "output_type": "display_data"
    },
    {
     "name": "stdout",
     "output_type": "stream",
     "text": [
      "KS stat:  0.08474691142868208 KS pval:  0.08080865507690549\n",
      "KS mean:  [0.08564942 0.09742148]\n",
      "KS std:  [0.00845497 0.05794093]\n"
     ]
    }
   ],
   "source": [
    "stretch_cond = pantheon['c']<-0.05\n",
    "blue_SNe = pantheon[stretch_cond]\n",
    "red_SNe = pantheon[~stretch_cond]\n",
    "colours = itertools.cycle(['c','r'])\n",
    "\n",
    "f,ax=plt.subplots(figsize=(8,6.5))\n",
    "\n",
    "samples = []\n",
    "for SNe,sample_name in zip([blue_SNe,red_SNe],['$c <0$','$c\\geq0$']):\n",
    "    SNe = SNe[SNe['logm_err']<5]\n",
    "    sorted_ms,cdf = make_cdf(SNe['logm'])\n",
    "    c = next(colours)\n",
    "    samples.append(SNe.logm)\n",
    "    ax.step(sorted_ms,cdf,label=sample_name,color=c)\n",
    "stat,pval = stats.ks_2samp(samples[0],samples[1])\n",
    "print('KS stat: ',stat,'KS pval: ',pval)\n",
    "ks_stats = []\n",
    "for i in range(1000):\n",
    "    samples = []\n",
    "    for SNe in [blue_SNe,red_SNe]:\n",
    "        c = next(colours)\n",
    "        SNe = SNe[SNe['logm_err']<2]\n",
    "        perturbed = perturb_arr_normal(SNe['logm'],SNe['logm_err'],SNe['logm_err'])\n",
    "        sorted_ms,cdf = make_cdf(perturbed)\n",
    "        ax.step(sorted_ms,cdf,linewidth=0.025,color=c)\n",
    "        samples.append(perturbed)\n",
    "    stat,pval = stats.ks_2samp(samples[0],samples[1])\n",
    "    ks_stats.append([stat,pval])\n",
    "ks_stats = np.array(ks_stats)   \n",
    "ax.set_xlabel('$\\log (M/M_{\\odot})$',size=20)\n",
    "ax.set_ylabel('$F(M)$',size=20)\n",
    "ax.legend(loc='upper left',fontsize=16)\n",
    "plt.savefig(FIG_DIR+'mass_CDF_split_c_negative_small_errs')\n",
    "print('KS mean: ',np.mean(ks_stats,axis=0))\n",
    "print('KS std: ',np.std(ks_stats,axis=0))"
   ]
  },
  {
   "cell_type": "markdown",
   "metadata": {},
   "source": [
    "Our fiducial value is dangerously close to the \"magical\" 0.05, but our resamples produce a more confusing picture -- the mean is larger, but the spread suggests that there's a non-zero chance that the p-value is actually <0.05! "
   ]
  },
  {
   "cell_type": "markdown",
   "metadata": {},
   "source": [
    "## Whatever, cool But I came here for upper limits!"
   ]
  },
  {
   "cell_type": "markdown",
   "metadata": {},
   "source": [
    "Let's have a look at where our limits lie in the mass plane"
   ]
  },
  {
   "cell_type": "code",
   "execution_count": 33,
   "metadata": {},
   "outputs": [
    {
     "name": "stderr",
     "output_type": "stream",
     "text": [
      "<ipython-input-33-9f3cc30ca0c1>:1: RuntimeWarning: More than 20 figures have been opened. Figures created through the pyplot interface (`matplotlib.pyplot.figure`) are retained until explicitly closed and may consume too much memory. (To control this warning, see the rcParam `figure.max_open_warning`).\n",
      "  f,ax=plt.subplots(figsize=(8,6.5))\n"
     ]
    },
    {
     "data": {
      "application/vnd.jupyter.widget-view+json": {
       "model_id": "bd24b7acb4eb476ba7667a1efb64cb08",
       "version_major": 2,
       "version_minor": 0
      },
      "text/plain": [
       "Canvas(toolbar=Toolbar(toolitems=[('Home', 'Reset original view', 'home', 'home'), ('Back', 'Back to previous …"
      ]
     },
     "metadata": {},
     "output_type": "display_data"
    },
    {
     "name": "stderr",
     "output_type": "stream",
     "text": [
      "<ipython-input-33-9f3cc30ca0c1>:17: RuntimeWarning: More than 20 figures have been opened. Figures created through the pyplot interface (`matplotlib.pyplot.figure`) are retained until explicitly closed and may consume too much memory. (To control this warning, see the rcParam `figure.max_open_warning`).\n",
      "  f,ax=plt.subplots(figsize=(8,6.5))\n"
     ]
    },
    {
     "data": {
      "application/vnd.jupyter.widget-view+json": {
       "model_id": "31e38bd078b143a49fa574e0d644427e",
       "version_major": 2,
       "version_minor": 0
      },
      "text/plain": [
       "Canvas(toolbar=Toolbar(toolitems=[('Home', 'Reset original view', 'home', 'home'), ('Back', 'Back to previous …"
      ]
     },
     "metadata": {},
     "output_type": "display_data"
    }
   ],
   "source": [
    "f,ax=plt.subplots(figsize=(8,6.5))\n",
    "colours = itertools.cycle(['purple','y'])\n",
    "for SNe,sample_name in zip([low_stretch_SNe,high_stretch_SNe],['$x_1 <0$','$x_1\\geq0$']):\n",
    "    limits = SNe[SNe['logm_err']>=2]\n",
    "    SNe = SNe[SNe['logm_err']<2]\n",
    "    sorted_ms,cdf = make_cdf(SNe['logm'])\n",
    "    c = next(colours)\n",
    "    ax.step(sorted_ms,cdf,color=c,label=sample_name)\n",
    "    for l in limits.logm.values:\n",
    "        ax.vlines(l,0,0.2,color=c,linestyle='--')\n",
    "ax.legend(fontsize=16)\n",
    "ax.set_xlabel('$\\log (M/M_{\\odot})$',size=20)\n",
    "ax.set_ylabel('$F(M)$',size=20)\n",
    "plt.savefig(FIG_DIR+'mass_CDF_split_x1_err_vlines')\n",
    "\n",
    "colours = itertools.cycle(['c','r'])\n",
    "f,ax=plt.subplots(figsize=(8,6.5))\n",
    "for SNe,sample_name in zip([blue_SNe,red_SNe],['$c <0$','$c\\geq0$']):\n",
    "    limits = SNe[SNe['logm_err']>=2]\n",
    "    SNe = SNe[SNe['logm_err']<2]\n",
    "    sorted_ms,cdf = make_cdf(SNe['logm'])\n",
    "    c = next(colours)\n",
    "    ax.step(sorted_ms,cdf,color=c,label=sample_name)\n",
    "    for l in limits.logm.values:\n",
    "        ax.vlines(l,0,0.2,color=c,linestyle='--')\n",
    "ax.legend(fontsize=16)\n",
    "ax.set_xlabel('$\\log (M/M_{\\odot})$',size=20)\n",
    "ax.set_ylabel('$F(M)$',size=20)\n",
    "plt.savefig(FIG_DIR+'mass_CDF_split_c_err_vlines')"
   ]
  },
  {
   "cell_type": "markdown",
   "metadata": {},
   "source": [
    "Hmm, that's not showing us much. What happens if we see how the CDF changes compared to the one with no limits, if we assume that the limits are detections?"
   ]
  },
  {
   "cell_type": "code",
   "execution_count": 29,
   "metadata": {},
   "outputs": [
    {
     "data": {
      "application/vnd.jupyter.widget-view+json": {
       "model_id": "22b64fafc3f44129b19c62513dc8dd92",
       "version_major": 2,
       "version_minor": 0
      },
      "text/plain": [
       "Canvas(toolbar=Toolbar(toolitems=[('Home', 'Reset original view', 'home', 'home'), ('Back', 'Back to previous …"
      ]
     },
     "metadata": {},
     "output_type": "display_data"
    },
    {
     "data": {
      "text/plain": [
       "<matplotlib.legend.Legend at 0x2b9592939e50>"
      ]
     },
     "execution_count": 29,
     "metadata": {},
     "output_type": "execute_result"
    }
   ],
   "source": [
    "f,ax=plt.subplots(figsize=(8,6.5))\n",
    "\n",
    "colours = itertools.cycle(['c','r'])\n",
    "for SNe,sample_name in zip([blue_SNe,red_SNe],['$c <0$','$c\\geq0$']):\n",
    "    #SNe = SNe[SNe['logm_err']<2]\n",
    "    sorted_ms,cdf = make_cdf(SNe['logm'])\n",
    "    c = next(colours)\n",
    "    ax.step(sorted_ms,cdf,label=sample_name,color=c)\n",
    "\n",
    "for i in range(100):\n",
    "    for SNe in [blue_SNe,red_SNe]:\n",
    "        c = next(colours)\n",
    "        SNe = SNe[SNe['logm_err']<2]\n",
    "        perturbed = perturb_arr_normal(SNe['logm'],SNe['logm_err'],SNe['logm_err'])\n",
    "        sorted_ms,cdf = make_cdf(perturbed)\n",
    "        ax.step(sorted_ms,cdf,linewidth=0.025,color=c)\n",
    "        \n",
    "    \n",
    "ax.set_xlabel('$\\log (M/M_{\\odot})$',size=20)\n",
    "ax.set_ylabel('$F(M)$',size=20)\n",
    "ax.legend(loc='upper left',fontsize=16)\n"
   ]
  },
  {
   "cell_type": "code",
   "execution_count": 11,
   "metadata": {},
   "outputs": [],
   "source": [
    "detections = pantheon[(pantheon['logm_err']<2)].sort_values('logm')#&(pantheon['logm']>=6.5)]\n",
    "limits = pantheon[(pantheon['logm_err']>=2)].sort_values('logm')# &(pantheon['logm']>6.5)].sort_values('logm')"
   ]
  },
  {
   "cell_type": "code",
   "execution_count": 8,
   "metadata": {},
   "outputs": [],
   "source": [
    "from des_sn_hosts.utils import stan_utility"
   ]
  },
  {
   "cell_type": "code",
   "execution_count": 57,
   "metadata": {},
   "outputs": [],
   "source": [
    "\n",
    "\n",
    "data = dict(\n",
    "    N_obs = len(detections),\n",
    "    N_cens = len(limits),\n",
    "    y_obs = detections.logm.values,\n",
    "    y_cens = limits.logm.values\n",
    "    )\n",
    "\n",
    "from des_sn_hosts.utils import stan_utility\n",
    "model =stan_utility.compile_model('stan_models/normal_survival.stan')\n",
    "            \n",
    "           \n",
    "\n",
    "fit =model.sampling(data=data, seed=1234, iter=int(2000),warmup=1000,n_jobs=4)\n",
    "\n",
    "chains=fit.extract()\n",
    "\n",
    "f,ax=plt.subplots()\n",
    "ax.scatter(limits.logm,np.median(chains['latent_y_cens_raw'],axis=0))\n",
    "\n",
    "all_log_ms = np.concatenate([np.mean(chains['latent_y_cens'],axis=0).T,detections.logm.values.T])"
   ]
  },
  {
   "cell_type": "code",
   "execution_count": 49,
   "metadata": {},
   "outputs": [
    {
     "data": {
      "text/plain": [
       "1002"
      ]
     },
     "execution_count": 49,
     "metadata": {},
     "output_type": "execute_result"
    }
   ],
   "source": [
    "len(all_log_ms)"
   ]
  },
  {
   "cell_type": "code",
   "execution_count": 50,
   "metadata": {},
   "outputs": [
    {
     "name": "stderr",
     "output_type": "stream",
     "text": [
      "<ipython-input-50-b2fb4cae10ca>:1: RuntimeWarning: More than 20 figures have been opened. Figures created through the pyplot interface (`matplotlib.pyplot.figure`) are retained until explicitly closed and may consume too much memory. (To control this warning, see the rcParam `figure.max_open_warning`).\n",
      "  f,ax=plt.subplots(figsize=(8,6.5))\n"
     ]
    },
    {
     "data": {
      "application/vnd.jupyter.widget-view+json": {
       "model_id": "0febf17d9ed6447380df7627d56674fb",
       "version_major": 2,
       "version_minor": 0
      },
      "text/plain": [
       "Canvas(toolbar=Toolbar(toolitems=[('Home', 'Reset original view', 'home', 'home'), ('Back', 'Back to previous …"
      ]
     },
     "metadata": {},
     "output_type": "display_data"
    },
    {
     "data": {
      "text/plain": [
       "<matplotlib.legend.Legend at 0x2b9598534640>"
      ]
     },
     "execution_count": 50,
     "metadata": {},
     "output_type": "execute_result"
    }
   ],
   "source": [
    "f,ax=plt.subplots(figsize=(8,6.5))\n",
    "for mass_array,name in zip([pantheon.logm,detections.logm,all_log_ms],['Raw data','Raw data (detections only)','Imputed']):\n",
    "    sorted_ms,cdf = make_cdf(mass_array)\n",
    "    ax.step(sorted_ms,cdf,label=name)\n",
    "ax.legend()"
   ]
  },
  {
   "cell_type": "code",
   "execution_count": 51,
   "metadata": {},
   "outputs": [],
   "source": [
    "f,ax=plt.subplots(figsize=(8,6.5))\n",
    "ax.hist(pantheon.logm,density=True,histtype='step',bins=25,label='Data: All values')\n",
    "ax.hist(detections.logm,density=True,histtype='step',bins=25,label='Data: Detections')\n",
    "ax.hist(all_log_ms,density=True,histtype='step',bins=25,label='Detections and imputed limits')\n",
    "ax.legend(loc='upper left')\n",
    "plt.savefig(FIG_DIR+'mass_hist_imputed_normal')"
   ]
  },
  {
   "cell_type": "code",
   "execution_count": 51,
   "metadata": {},
   "outputs": [
    {
     "name": "stderr",
     "output_type": "stream",
     "text": [
      "INFO:pystan:COMPILING THE C++ CODE FOR MODEL anon_model_91c80dea74a6643bc8a20be9337d6b89 NOW.\n",
      "/media/data3/wiseman/anaconda3/lib/python3.8/site-packages/Cython/Compiler/Main.py:369: FutureWarning: Cython directive 'language_level' not set, using 2 for now (Py2). This will change in a later release! File: /tmp/tmp0yisk7dm/stanfit4anon_model_91c80dea74a6643bc8a20be9337d6b89_5464357517865158763.pyx\n",
      "  tree = Parsing.p_module(s, pxd, full_module_name)\n"
     ]
    }
   ],
   "source": [
    "data = dict(\n",
    "    N_obs = len(detections),\n",
    "    y_obs = detections.logm.values,\n",
    "    )\n",
    "model =stan_utility.compile_model('stan_models/normal_nolimits.stan')\n",
    "fit =model.sampling(data=data, seed=1234, iter=int(2000),warmup=1000,n_jobs=4)"
   ]
  },
  {
   "cell_type": "code",
   "execution_count": 52,
   "metadata": {},
   "outputs": [],
   "source": [
    "chains_nolims = fit.extract()"
   ]
  },
  {
   "cell_type": "code",
   "execution_count": 53,
   "metadata": {},
   "outputs": [
    {
     "data": {
      "text/plain": [
       "10.196623809631754"
      ]
     },
     "execution_count": 53,
     "metadata": {},
     "output_type": "execute_result"
    }
   ],
   "source": [
    "np.median(chains_nolims['mu'])"
   ]
  },
  {
   "cell_type": "code",
   "execution_count": 54,
   "metadata": {},
   "outputs": [
    {
     "data": {
      "text/plain": [
       "10.055843206699931"
      ]
     },
     "execution_count": 54,
     "metadata": {},
     "output_type": "execute_result"
    }
   ],
   "source": [
    "np.median(chains['mu'])"
   ]
  },
  {
   "cell_type": "code",
   "execution_count": 55,
   "metadata": {},
   "outputs": [
    {
     "name": "stdout",
     "output_type": "stream",
     "text": [
      "Using cached StanModel\n"
     ]
    }
   ],
   "source": [
    "data = dict(\n",
    "    N_obs = len(pantheon),\n",
    "    y_obs = pantheon.logm.values,\n",
    "    )\n",
    "model =stan_utility.compile_model('stan_models/normal_nolimits.stan')\n",
    "fit =model.sampling(data=data, seed=1234, iter=int(2000),warmup=1000,n_jobs=4)\n",
    "chains_all = fit.extract()"
   ]
  },
  {
   "cell_type": "code",
   "execution_count": 56,
   "metadata": {},
   "outputs": [
    {
     "data": {
      "text/plain": [
       "10.143153809070622"
      ]
     },
     "execution_count": 56,
     "metadata": {},
     "output_type": "execute_result"
    }
   ],
   "source": [
    "np.median(chains_all['mu'])"
   ]
  },
  {
   "cell_type": "code",
   "execution_count": 68,
   "metadata": {},
   "outputs": [
    {
     "name": "stderr",
     "output_type": "stream",
     "text": [
      "<ipython-input-68-e7b6fbda78e3>:1: RuntimeWarning: More than 20 figures have been opened. Figures created through the pyplot interface (`matplotlib.pyplot.figure`) are retained until explicitly closed and may consume too much memory. (To control this warning, see the rcParam `figure.max_open_warning`).\n",
      "  f,ax=plt.subplots(figsize=(8,6.5))\n"
     ]
    },
    {
     "data": {
      "application/vnd.jupyter.widget-view+json": {
       "model_id": "1315709028a54e06b990c0c7fc53e10c",
       "version_major": 2,
       "version_minor": 0
      },
      "text/plain": [
       "Canvas(toolbar=Toolbar(toolitems=[('Home', 'Reset original view', 'home', 'home'), ('Back', 'Back to previous …"
      ]
     },
     "metadata": {},
     "output_type": "display_data"
    }
   ],
   "source": [
    "f,ax=plt.subplots(figsize=(8,6.5))\n",
    "ax.hist(pantheon.logm,density=True,histtype='step',bins=25,label='Data: All values')\n",
    "ax.hist(detections.logm,density=True,histtype='step',bins=25,label='Data: Detections')\n",
    "\n",
    "\n",
    "\n",
    "f,ax=plt.subplots(figsize=(8,6.5))\n",
    "ax.hist(pantheon.logm,density=True,histtype='step',bins=25)\n",
    "ax.hist(detections.logm,density=True,histtype='step',bins=25)\n",
    "xs = np.linspace(5,13,100)\n",
    "ys = stats.norm(np.median(chains_nolims['mu']),np.median(chains_nolims['sigma'])).pdf(xs)\n",
    "ax.step(xs,ys,label='Fit: detections only')\n",
    "xs = np.linspace(5,13,100)\n",
    "ys = stats.norm(np.median(chains_all['mu']),np.median(chains_all['sigma'])).pdf(xs)\n",
    "ax.step(xs,ys,label='Fit: detections and limits')\n",
    "ax.legend(loc='upper left')\n",
    "plt.savefig(FIG_DIR+'mass_hist_imputed_normal')"
   ]
  },
  {
   "cell_type": "code",
   "execution_count": 69,
   "metadata": {},
   "outputs": [
    {
     "name": "stdout",
     "output_type": "stream",
     "text": [
      "Using cached StanModel\n"
     ]
    }
   ],
   "source": [
    "data = dict(\n",
    "    N_obs = len(detections),\n",
    "    y_obs = detections.logm.values,\n",
    "    sigma_obs = detections.logm_err.values,\n",
    "    )\n",
    "model =stan_utility.compile_model('stan_models/normal_nolimits_errs.stan')\n",
    "fit =model.sampling(data=data, seed=1234, iter=int(2000),warmup=1000,n_jobs=4)"
   ]
  },
  {
   "cell_type": "code",
   "execution_count": 70,
   "metadata": {},
   "outputs": [],
   "source": [
    "chains_normal = fit.extract()"
   ]
  },
  {
   "cell_type": "code",
   "execution_count": 71,
   "metadata": {},
   "outputs": [
    {
     "data": {
      "text/plain": [
       "10.25946903636849"
      ]
     },
     "execution_count": 71,
     "metadata": {},
     "output_type": "execute_result"
    }
   ],
   "source": [
    "np.median(chains_normal['mu'])"
   ]
  },
  {
   "cell_type": "code",
   "execution_count": 72,
   "metadata": {},
   "outputs": [
    {
     "name": "stdout",
     "output_type": "stream",
     "text": [
      "Using cached StanModel\n"
     ]
    }
   ],
   "source": [
    "data = dict(\n",
    "    N_obs = len(pantheon),\n",
    "    y_obs = pantheon.logm.values,\n",
    "    sigma_obs = pantheon.logm_err.values,\n",
    "    )\n",
    "model =stan_utility.compile_model('stan_models/normal_nolimits_errs.stan')\n",
    "fit =model.sampling(data=data, seed=1234, iter=int(2000),warmup=1000,n_jobs=4)"
   ]
  },
  {
   "cell_type": "code",
   "execution_count": 73,
   "metadata": {},
   "outputs": [
    {
     "data": {
      "text/plain": [
       "10.25773160770165"
      ]
     },
     "execution_count": 73,
     "metadata": {},
     "output_type": "execute_result"
    }
   ],
   "source": [
    "chains_all = fit.extract()\n",
    "np.median(chains_all['mu'])\n",
    "    "
   ]
  },
  {
   "cell_type": "code",
   "execution_count": 74,
   "metadata": {},
   "outputs": [
    {
     "name": "stderr",
     "output_type": "stream",
     "text": [
      "<ipython-input-74-d674ae24be7f>:1: RuntimeWarning: More than 20 figures have been opened. Figures created through the pyplot interface (`matplotlib.pyplot.figure`) are retained until explicitly closed and may consume too much memory. (To control this warning, see the rcParam `figure.max_open_warning`).\n",
      "  f,ax=plt.subplots(figsize=(8,6.5))\n"
     ]
    },
    {
     "data": {
      "application/vnd.jupyter.widget-view+json": {
       "model_id": "580c21b5bdbf48739689d8e9fd33b734",
       "version_major": 2,
       "version_minor": 0
      },
      "text/plain": [
       "Canvas(toolbar=Toolbar(toolitems=[('Home', 'Reset original view', 'home', 'home'), ('Back', 'Back to previous …"
      ]
     },
     "metadata": {},
     "output_type": "display_data"
    },
    {
     "data": {
      "text/plain": [
       "[<matplotlib.lines.Line2D at 0x2b959b4a1700>]"
      ]
     },
     "execution_count": 74,
     "metadata": {},
     "output_type": "execute_result"
    }
   ],
   "source": [
    "f,ax=plt.subplots(figsize=(8,6.5))\n",
    "ax.hist(pantheon.logm,density=True,histtype='step',bins=25)\n",
    "ax.hist(detections.logm,density=True,histtype='step',bins=25)\n",
    "xs = np.linspace(5,13,100)\n",
    "ys = stats.norm(np.median(chains_normal['mu']),np.median(chains_normal['sigma'])).pdf(xs)\n",
    "xs = np.linspace(5,13,100)\n",
    "ys = stats.norm(np.median(chains_all['mu']),np.median(chains_all['sigma'])).pdf(xs)\n",
    "ax.step(xs,ys)"
   ]
  },
  {
   "cell_type": "code",
   "execution_count": 75,
   "metadata": {},
   "outputs": [
    {
     "ename": "SyntaxError",
     "evalue": "unexpected EOF while parsing (<ipython-input-75-346851d52248>, line 8)",
     "output_type": "error",
     "traceback": [
      "\u001b[0;36m  File \u001b[0;32m\"<ipython-input-75-346851d52248>\"\u001b[0;36m, line \u001b[0;32m8\u001b[0m\n\u001b[0;31m    ax.step(xs,make_cdf(ys)\u001b[0m\n\u001b[0m                           ^\u001b[0m\n\u001b[0;31mSyntaxError\u001b[0m\u001b[0;31m:\u001b[0m unexpected EOF while parsing\n"
     ]
    }
   ],
   "source": [
    "f,ax=plt.subplots(figsize=(8,6.5))\n",
    "ax.hist(pantheon.logm,density=True,histtype='step',bins=25,cumulative=True)\n",
    "ax.hist(detections.logm,density=True,histtype='step',bins=25,cumulative=True)\n",
    "xs = np.linspace(5,13,100)\n",
    "ys = stats.norm(np.median(chains_normal['mu']),np.median(chains_normal['sigma'])).pdf(xs)\n",
    "xs = np.linspace(5,13,100)\n",
    "ys = stats.norm(np.median(chains_all['mu']),np.median(chains_all['sigma'])).pdf(xs)\n",
    "ax.step(xs,make_cdf(ys)"
   ]
  },
  {
   "cell_type": "code",
   "execution_count": 51,
   "metadata": {},
   "outputs": [
    {
     "name": "stdout",
     "output_type": "stream",
     "text": [
      "Using cached StanModel\n"
     ]
    }
   ],
   "source": [
    "data = dict(\n",
    "    N_obs = len(detections),\n",
    "    N_cens = len(limits),\n",
    "    y_obs = detections.logm.values,\n",
    "    y_cens = limits.logm.values,\n",
    "    y_err = detections.logm_err.values,\n",
    "    )\n",
    "model =stan_utility.compile_model('stan_models/normal_survival_mix.stan')\n",
    "fit =model.sampling(data=data, seed=1234, iter=int(2000),warmup=1000,n_jobs=4)\n",
    "chains_all_errs = fit.extract()"
   ]
  },
  {
   "cell_type": "code",
   "execution_count": 54,
   "metadata": {},
   "outputs": [
    {
     "name": "stderr",
     "output_type": "stream",
     "text": [
      "<ipython-input-54-27d7da17bf88>:1: RuntimeWarning: More than 20 figures have been opened. Figures created through the pyplot interface (`matplotlib.pyplot.figure`) are retained until explicitly closed and may consume too much memory. (To control this warning, see the rcParam `figure.max_open_warning`).\n",
      "  f,ax=plt.subplots(figsize=(8,6.5))\n"
     ]
    },
    {
     "data": {
      "application/vnd.jupyter.widget-view+json": {
       "model_id": "a07a3a69c1d04c528e147166402b8006",
       "version_major": 2,
       "version_minor": 0
      },
      "text/plain": [
       "Canvas(toolbar=Toolbar(toolitems=[('Home', 'Reset original view', 'home', 'home'), ('Back', 'Back to previous …"
      ]
     },
     "metadata": {},
     "output_type": "display_data"
    },
    {
     "data": {
      "text/plain": [
       "<matplotlib.legend.Legend at 0x2af9a226dca0>"
      ]
     },
     "execution_count": 54,
     "metadata": {},
     "output_type": "execute_result"
    }
   ],
   "source": [
    "f,ax=plt.subplots(figsize=(8,6.5))\n",
    "ax.hist(pantheon.logm,density=True,histtype='step',bins=25,label='All')\n",
    "ax.hist(detections.logm,density=True,histtype='step',bins=25,label='Detections only')\n",
    "xs = np.linspace(5,13,100)\n",
    "#ys = stats.norm(np.median(chains_all['mu1']),np.median(chains_all['sigma1'])).pdf(xs)+stats.norm(np.median(chains_all['mu2']),np.median(chains_all['sigma2'])).pdf(xs)\n",
    "#ax.step(xs,ys)\n",
    "\n",
    "all_log_ms = np.concatenate([np.median(chains_all_errs['latent_y_cens'],axis=0).T,detections.logm.values.T])\n",
    "ax.hist(all_log_ms,density=True,histtype='step',bins=25,label='Imputed')\n",
    "xs = np.linspace(5,13,100)\n",
    "bw = ((np.max(xs)-np.min(xs))/100)\n",
    "ys = np.median(chains_all_errs['theta'])*stats.norm(np.median(chains_all_errs['mu1']),np.median(chains_all_errs['sigma1'])).pdf(xs)+ (1-np.median(chains_all_errs['theta']))*stats.norm(np.median(chains_all_errs['mu2']),np.median(chains_all_errs['sigma2'])).pdf(xs)\n",
    "ax.step(xs,ys)\n",
    "ax.legend()"
   ]
  },
  {
   "cell_type": "code",
   "execution_count": 55,
   "metadata": {},
   "outputs": [
    {
     "name": "stderr",
     "output_type": "stream",
     "text": [
      "/media/data3/wiseman/anaconda3/lib/python3.8/site-packages/arviz/plots/backends/matplotlib/traceplot.py:219: RuntimeWarning: More than 20 figures have been opened. Figures created through the pyplot interface (`matplotlib.pyplot.figure`) are retained until explicitly closed and may consume too much memory. (To control this warning, see the rcParam `figure.max_open_warning`).\n",
      "  fig = plt.figure(**backend_kwargs)\n"
     ]
    },
    {
     "data": {
      "application/vnd.jupyter.widget-view+json": {
       "model_id": "66371746d267438ab3192042fb300cf7",
       "version_major": 2,
       "version_minor": 0
      },
      "text/plain": [
       "Canvas(toolbar=Toolbar(toolitems=[('Home', 'Reset original view', 'home', 'home'), ('Back', 'Back to previous …"
      ]
     },
     "metadata": {},
     "output_type": "display_data"
    },
    {
     "data": {
      "text/plain": [
       "array([[<matplotlib.axes._subplots.AxesSubplot object at 0x2af9bb85cf70>,\n",
       "        <matplotlib.axes._subplots.AxesSubplot object at 0x2af9a2560a00>],\n",
       "       [<matplotlib.axes._subplots.AxesSubplot object at 0x2af9bb945a90>,\n",
       "        <matplotlib.axes._subplots.AxesSubplot object at 0x2af9bb99b610>],\n",
       "       [<matplotlib.axes._subplots.AxesSubplot object at 0x2af9bb59fe80>,\n",
       "        <matplotlib.axes._subplots.AxesSubplot object at 0x2af9a255c700>],\n",
       "       [<matplotlib.axes._subplots.AxesSubplot object at 0x2af9ba63f190>,\n",
       "        <matplotlib.axes._subplots.AxesSubplot object at 0x2af9bab37790>],\n",
       "       [<matplotlib.axes._subplots.AxesSubplot object at 0x2af9a1617670>,\n",
       "        <matplotlib.axes._subplots.AxesSubplot object at 0x2af9bb47bd30>]],\n",
       "      dtype=object)"
      ]
     },
     "execution_count": 55,
     "metadata": {},
     "output_type": "execute_result"
    }
   ],
   "source": [
    "import arviz as az\n",
    "az.plot_trace(fit,var_names=['mu1','sigma1','mu2','sigma2','latent_y_cens'],compact=True,)\n"
   ]
  },
  {
   "cell_type": "code",
   "execution_count": null,
   "metadata": {},
   "outputs": [],
   "source": [
    "help(az.plot_trace)"
   ]
  },
  {
   "cell_type": "code",
   "execution_count": 9,
   "metadata": {},
   "outputs": [],
   "source": [
    "import lifelines"
   ]
  },
  {
   "cell_type": "code",
   "execution_count": 75,
   "metadata": {},
   "outputs": [],
   "source": [
    "T = pantheon['logm']\n",
    "E = pantheon['logm_err'].apply(lambda x: x<2).astype(int)\n",
    "detections = pantheon[pantheon['logm_err']<2]\n",
    "\n",
    "from lifelines import KaplanMeierFitter\n",
    "kmf = KaplanMeierFitter()\n",
    "\n",
    "kmf.fit_left_censoring(T, E)\n"
   ]
  },
  {
   "cell_type": "code",
   "execution_count": 83,
   "metadata": {},
   "outputs": [
    {
     "data": {
      "application/vnd.jupyter.widget-view+json": {
       "model_id": "a2ebbdd4cde94592ab24da3f182b8c7a",
       "version_major": 2,
       "version_minor": 0
      },
      "text/plain": [
       "Canvas(toolbar=Toolbar(toolitems=[('Home', 'Reset original view', 'home', 'home'), ('Back', 'Back to previous …"
      ]
     },
     "metadata": {},
     "output_type": "display_data"
    }
   ],
   "source": [
    "f,ax=plt.subplots(figsize=(8,6.5))\n",
    "kmf.plot_cumulative_density(label='Kaplan-Meier left_censored',color='g')\n",
    "\n",
    "sorted_ms,cdf = make_cdf(pantheon['logm'])\n",
    "ax.step(sorted_ms,cdf,label='All data',color='y')\n",
    "sorted_ms,cdf = make_cdf(detections['logm'])\n",
    "ax.step(sorted_ms,cdf,label='Detections only',color='r')\n",
    "sorted_ms,cdf = make_cdf(all_log_ms)\n",
    "ax.step(sorted_ms,cdf,label='Detections and imputed limits (Single Gaussian)',color='c')\n",
    "ax.legend()\n",
    "ax.set_xlabel('$\\log (M/M_{\\odot})$',size=20)\n",
    "ax.set_ylabel('$F(M)$',size=20)\n",
    "ax.set_xlim(5,12)\n",
    "plt.tight_layout()\n",
    "plt.savefig(FIG_DIR+'mass_hist_imputed_KM')"
   ]
  },
  {
   "cell_type": "code",
   "execution_count": 43,
   "metadata": {},
   "outputs": [
    {
     "name": "stderr",
     "output_type": "stream",
     "text": [
      "<ipython-input-43-948a8f42733d>:9: RuntimeWarning: More than 20 figures have been opened. Figures created through the pyplot interface (`matplotlib.pyplot.figure`) are retained until explicitly closed and may consume too much memory. (To control this warning, see the rcParam `figure.max_open_warning`).\n",
      "  f,ax=plt.subplots(figsize=(8,6.5))\n"
     ]
    },
    {
     "data": {
      "application/vnd.jupyter.widget-view+json": {
       "model_id": "139299cd6ca242be9768b928ee062a47",
       "version_major": 2,
       "version_minor": 0
      },
      "text/plain": [
       "Canvas(toolbar=Toolbar(toolitems=[('Home', 'Reset original view', 'home', 'home'), ('Back', 'Back to previous …"
      ]
     },
     "metadata": {},
     "output_type": "display_data"
    },
    {
     "name": "stdout",
     "output_type": "stream",
     "text": [
      "{'N_obs': 561, 'N_cens': 47, 'y_obs': array([ 9.517 , 11.58  ,  8.647 ,  8.53  , 10.651 , 10.198 , 10.628 ,\n",
      "       10.389 ,  9.879 , 10.005 , 10.635 ,  9.034 , 11.338 ,  9.397 ,\n",
      "       11.382 ,  9.769 , 10.638 ,  9.642 , 10.809 ,  9.517 ,  9.48  ,\n",
      "       10.485 ,  8.459 , 11.111 ,  9.882 ,  9.356 , 10.032 , 10.785 ,\n",
      "        9.475 ,  9.325 , 10.855 ,  8.024 , 11.226 ,  8.631 ,  8.42  ,\n",
      "        9.416 , 11.043 ,  7.466 ,  8.851 , 10.098 ,  9.21  ,  9.144 ,\n",
      "       10.941 ,  7.738 ,  9.997 ,  9.287 ,  8.876 , 11.222 ,  9.015 ,\n",
      "        9.004 , 10.471 ,  9.457 , 10.62  , 10.63  , 10.432 , 10.788 ,\n",
      "        8.986 , 10.23  ,  8.98  , 10.429 ,  8.321 , 10.133 , 10.883 ,\n",
      "       11.277 ,  9.74  , 10.905 , 10.083 ,  8.709 ,  9.512 , 10.766 ,\n",
      "        9.3   ,  9.96  ,  8.861 , 10.627 ,  9.381 ,  9.169 , 10.821 ,\n",
      "       10.391 , 10.695 ,  9.339 ,  8.751 ,  9.705 ,  9.414 ,  7.638 ,\n",
      "        9.64  ,  8.199 ,  8.086 ,  9.929 ,  9.17  ,  9.888 , 10.623 ,\n",
      "        7.542 , 10.235 ,  8.834 , 10.991 ,  9.98  ,  9.299 ,  9.287 ,\n",
      "        9.719 ,  9.127 ,  7.844 , 10.994 , 10.324 ,  9.101 ,  8.357 ,\n",
      "       10.234 , 10.973 , 11.125 ,  8.93  ,  8.911 , 11.153 ,  8.838 ,\n",
      "        9.413 ,  8.815 ,  8.676 , 10.875 ,  8.033 , 10.595 ,  9.054 ,\n",
      "        8.442 ,  9.839 , 10.726 ,  9.661 , 10.815 ,  9.599 , 10.777 ,\n",
      "       10.723 ,  9.44  ,  9.109 ,  9.047 , 10.554 , 10.503 , 10.437 ,\n",
      "       10.543 ,  8.381 , 11.193 ,  9.051 , 10.293 , 10.46  ,  9.554 ,\n",
      "        7.715 ,  8.544 ,  9.333 ,  9.107 , 11.351 , 10.893 , 10.75  ,\n",
      "        9.485 ,  9.371 ,  9.971 , 10.961 ,  9.666 , 10.839 ,  9.261 ,\n",
      "        9.483 , 10.463 , 11.406 ,  9.72  ,  9.765 ,  9.769 , 10.562 ,\n",
      "        9.225 , 11.174 , 11.034 , 11.129 , 10.93  , 10.352 , 11.099 ,\n",
      "       10.401 ,  9.177 , 10.093 ,  9.913 , 11.433 ,  9.121 , 10.471 ,\n",
      "       10.45  ,  9.678 , 10.325 ,  9.931 , 10.548 , 11.561 , 10.124 ,\n",
      "        9.147 , 10.089 ,  9.467 , 10.971 , 11.065 , 10.721 , 11.081 ,\n",
      "        9.789 , 10.621 ,  9.915 , 10.786 , 10.166 , 10.339 , 10.923 ,\n",
      "       10.516 , 10.43  , 11.211 , 10.387 ,  9.969 , 10.135 ,  9.751 ,\n",
      "       10.215 , 11.035 ,  9.52  , 10.927 , 10.394 ,  9.757 , 10.158 ,\n",
      "       10.92  , 10.969 ,  9.385 , 10.702 , 10.453 ,  9.658 ,  9.988 ,\n",
      "        9.359 , 11.505 , 10.076 , 11.331 , 10.3   , 11.137 , 10.791 ,\n",
      "       10.368 , 10.226 , 10.63  , 10.716 ,  9.959 , 11.113 , 10.154 ,\n",
      "       10.051 ,  9.671 , 10.628 , 11.383 ,  9.365 , 11.046 ,  9.903 ,\n",
      "        9.374 , 11.278 , 10.969 , 11.236 , 10.816 , 11.153 , 10.547 ,\n",
      "       10.325 ,  9.755 , 11.224 ,  9.23  , 10.74  , 10.919 , 10.535 ,\n",
      "        9.299 ,  9.08  ,  9.564 ,  9.431 , 10.474 ,  9.639 , 10.655 ,\n",
      "       11.272 , 10.259 ,  8.954 , 10.379 ,  9.306 , 11.602 , 10.364 ,\n",
      "       11.031 , 11.598 ,  9.614 , 10.267 , 10.86  , 11.134 , 10.055 ,\n",
      "       11.411 ,  9.953 , 11.174 , 10.507 , 10.791 , 11.127 , 10.497 ,\n",
      "        9.135 , 10.572 , 10.186 , 11.095 , 11.215 , 11.075 ,  8.85  ,\n",
      "        9.165 , 10.743 , 11.178 , 10.806 ,  8.989 ,  9.964 , 10.9   ,\n",
      "       10.933 ,  9.66  , 10.943 , 10.651 ,  9.288 , 10.79  , 10.875 ,\n",
      "        8.77  , 10.968 , 10.934 , 11.443 ,  8.818 , 11.4   , 10.972 ,\n",
      "       10.989 , 10.244 , 10.908 , 11.05  ,  8.906 ,  9.778 , 10.998 ,\n",
      "        8.801 , 11.04  ,  8.996 ,  9.896 , 10.395 , 10.492 , 10.257 ,\n",
      "       10.277 ,  9.641 , 11.011 , 11.172 , 11.141 , 11.376 , 10.277 ,\n",
      "       10.499 , 10.741 , 10.984 , 10.976 , 11.072 , 11.019 , 11.905 ,\n",
      "       10.654 , 10.61  , 11.182 , 10.047 , 10.939 , 10.679 , 10.223 ,\n",
      "       10.945 , 10.921 , 10.544 , 11.742 , 10.576 , 10.414 , 11.792 ,\n",
      "       10.978 , 10.085 , 10.084 , 10.988 , 10.672 ,  7.014 , 11.33  ,\n",
      "        9.84  , 10.408 ,  8.568 , 11.031 , 10.316 ,  8.896 , 11.125 ,\n",
      "       10.568 , 11.084 , 10.599 , 10.874 ,  9.95  , 10.31  , 10.6001,\n",
      "       10.915 , 10.564 , 10.655 , 11.235 , 11.906 , 10.637 , 10.278 ,\n",
      "       10.603 ,  9.57  , 11.3145, 10.65  , 11.039 , 11.09  , 10.61  ,\n",
      "       10.1732, 10.4766,  8.938 ,  6.593 , 11.713 , 10.475 , 10.902 ,\n",
      "        9.742 , 10.205 ,  9.059 ,  8.7022,  9.134 ,  8.798 ,  8.835 ,\n",
      "        9.513 ,  9.753 , 10.434 , 10.063 ,  9.468 , 11.348 , 11.404 ,\n",
      "        9.83  ,  9.363 , 10.2506,  9.5892, 10.78  , 11.223 , 10.158 ,\n",
      "        9.1073, 10.874 , 10.833 , 10.094 ,  9.3124,  9.066 ,  9.577 ,\n",
      "        9.906 , 10.234 , 10.956 , 10.812 , 10.491 ,  9.755 ,  9.181 ,\n",
      "        8.624 , 10.636 ,  9.381 ,  8.834 , 10.3   , 10.491 , 11.239 ,\n",
      "        8.7576, 11.387 , 10.124 , 10.859 , 10.971 , 10.364 , 10.504 ,\n",
      "       10.841 , 11.338 , 10.504 , 10.934 , 11.611 , 11.8593, 10.8761,\n",
      "        9.655 , 11.601 , 10.3869, 11.162 ,  9.115 , 10.917 ,  9.43  ,\n",
      "        9.155 , 10.898 ,  9.8142,  8.6546, 11.266 , 11.324 , 10.6357,\n",
      "       11.3931,  8.406 , 10.678 , 11.1019,  7.4   , 10.582 ,  9.1626,\n",
      "       11.27  , 11.416 ,  9.973 ,  9.219 , 11.33  ,  9.477 ,  9.056 ,\n",
      "        8.885 , 10.534 ,  9.126 ,  9.66  , 11.335 , 11.32  ,  9.524 ,\n",
      "        8.413 ,  9.2773, 10.3896, 10.905 ,  8.537 , 10.768 , 11.102 ,\n",
      "       11.578 , 11.566 ,  9.553 , 10.595 , 11.847 ,  8.7828,  9.163 ,\n",
      "       10.563 ,  9.389 ,  9.483 ,  8.952 ,  9.694 , 11.454 , 11.119 ,\n",
      "        9.881 , 11.089 , 10.419 ,  8.8262, 11.705 , 10.748 , 10.324 ,\n",
      "       11.639 ,  9.3245, 11.264 ,  8.7967, 10.7107, 10.623 ,  8.78  ,\n",
      "       11.229 , 10.9632, 11.149 , 11.022 ,  9.831 ,  9.642 ,  9.538 ,\n",
      "        9.631 , 11.611 ,  9.745 , 10.324 , 11.443 , 11.254 ,  9.185 ,\n",
      "       11.004 , 11.03  , 11.413 ,  8.731 , 10.292 , 10.546 ,  9.381 ,\n",
      "       10.57  ,  9.761 , 11.417 , 10.016 ,  8.598 , 11.806 , 10.6566,\n",
      "        9.9066, 10.672 , 10.641 , 10.9792,  9.751 , 12.1047, 10.84  ,\n",
      "       11.458 ,  9.499 , 11.543 ,  9.851 , 10.421 , 10.283 , 10.011 ,\n",
      "       10.683 ]), 'y_cens': array([ 7.492,  9.204, 11.018, 10.874, 11.224, 10.628,  9.81 , 10.867,\n",
      "        9.574, 10.632, 10.552, 10.816, 11.55 , 11.166, 10.286, 10.272,\n",
      "       10.723, 10.285, 11.016, 11.088, 10.249, 11.305, 10.663,  8.707,\n",
      "        8.555,  8.684, 11.65 , 11.64 , 11.645,  9.102,  9.943,  8.553,\n",
      "       10.291, 10.   , 10.   , 10.   , 10.   , 10.   , 10.   , 10.   ,\n",
      "       10.   , 10.   , 10.   , 10.   , 10.   , 10.   , 10.   ])}\n",
      "Using cached StanModel\n"
     ]
    },
    {
     "name": "stderr",
     "output_type": "stream",
     "text": [
      "<ipython-input-43-948a8f42733d>:9: RuntimeWarning: More than 20 figures have been opened. Figures created through the pyplot interface (`matplotlib.pyplot.figure`) are retained until explicitly closed and may consume too much memory. (To control this warning, see the rcParam `figure.max_open_warning`).\n",
      "  f,ax=plt.subplots(figsize=(8,6.5))\n"
     ]
    },
    {
     "data": {
      "application/vnd.jupyter.widget-view+json": {
       "model_id": "65f4983f6a37486abe8620ea820b2448",
       "version_major": 2,
       "version_minor": 0
      },
      "text/plain": [
       "Canvas(toolbar=Toolbar(toolitems=[('Home', 'Reset original view', 'home', 'home'), ('Back', 'Back to previous …"
      ]
     },
     "metadata": {},
     "output_type": "display_data"
    },
    {
     "name": "stdout",
     "output_type": "stream",
     "text": [
      "{'N_obs': 343, 'N_cens': 33, 'y_obs': array([10.831 ,  9.464 , 11.008 , 10.162 ,  8.73  ,  9.645 ,  7.966 ,\n",
      "       10.215 , 10.496 ,  8.386 ,  9.326 ,  9.097 , 10.189 , 11.34  ,\n",
      "       10.79  , 10.541 ,  8.706 , 10.057 , 11.199 ,  9.316 , 10.379 ,\n",
      "        9.854 ,  9.534 , 10.244 , 10.977 ,  8.657 ,  8.557 ,  9.609 ,\n",
      "       11.164 ,  8.008 ,  8.931 , 10.873 , 10.285 ,  9.265 , 10.461 ,\n",
      "        8.984 ,  8.617 , 10.87  , 11.326 ,  9.459 , 10.211 , 10.38  ,\n",
      "       10.418 ,  9.808 ,  9.314 , 10.416 , 10.246 , 10.96  ,  9.548 ,\n",
      "       10.29  ,  8.895 ,  8.977 ,  8.305 ,  8.528 , 10.931 ,  9.239 ,\n",
      "       10.111 ,  9.724 ,  8.425 , 10.277 , 10.977 ,  9.761 ,  9.418 ,\n",
      "       10.011 , 10.4   ,  8.832 ,  9.138 , 10.078 ,  8.381 ,  9.994 ,\n",
      "       10.855 ,  8.467 ,  9.808 ,  7.908 ,  9.589 ,  9.55  , 10.59  ,\n",
      "        9.276 , 10.47  , 10.696 ,  9.27  , 11.351 , 10.041 , 10.231 ,\n",
      "        9.664 , 10.054 ,  9.359 ,  9.225 ,  9.086 ,  9.959 ,  8.722 ,\n",
      "       10.071 ,  9.323 , 10.696 , 10.216 ,  9.252 , 10.776 , 10.942 ,\n",
      "        9.679 ,  9.953 ,  9.787 ,  9.387 , 10.005 ,  8.922 ,  8.934 ,\n",
      "        8.953 ,  9.696 , 10.326 , 10.524 , 10.783 , 10.852 ,  9.434 ,\n",
      "       10.656 , 11.528 , 11.331 , 10.863 ,  9.891 ,  9.285 , 10.428 ,\n",
      "       10.693 ,  9.237 ,  9.84  , 10.917 ,  9.299 , 10.524 , 11.172 ,\n",
      "       11.503 ,  9.592 , 10.516 , 11.015 , 11.004 , 10.636 , 10.486 ,\n",
      "       11.367 , 10.367 , 11.428 ,  9.191 , 10.934 , 11.74  , 10.389 ,\n",
      "       10.976 ,  9.321 , 10.681 , 10.798 ,  9.872 , 10.597 , 10.765 ,\n",
      "       10.78  , 10.047 , 10.656 , 10.549 , 10.28  , 11.335 , 10.522 ,\n",
      "       10.597 ,  9.99  , 11.258 , 10.614 , 10.836 , 10.574 , 10.472 ,\n",
      "       10.19  , 11.238 ,  9.424 , 10.395 , 11.312 , 10.219 , 11.571 ,\n",
      "       10.526 , 10.622 , 11.339 , 10.816 , 10.837 ,  9.661 ,  9.716 ,\n",
      "       11.223 , 10.769 ,  9.555 , 10.604 , 10.839 , 11.199 , 11.123 ,\n",
      "       10.663 , 11.072 , 10.401 , 11.02  , 10.626 , 10.86  , 11.381 ,\n",
      "       10.681 , 10.63  , 11.006 , 11.133 , 10.499 , 11.399 , 10.661 ,\n",
      "       10.567 , 10.754 , 10.941 ,  9.749 , 11.217 , 11.267 ,  9.371 ,\n",
      "       10.626 , 10.805 , 10.984 , 11.204 , 10.925 , 10.36  , 10.183 ,\n",
      "       11.178 , 11.068 , 11.005 , 10.361 , 11.501 , 11.022 ,  9.156 ,\n",
      "       10.292 , 11.    ,  9.481 , 10.757 , 11.383 , 10.832 , 11.689 ,\n",
      "       10.735 ,  8.727 , 10.464 ,  9.126 , 10.381 , 10.93  , 10.953 ,\n",
      "       10.186 , 10.667 , 10.491 , 10.992 , 10.982 , 10.225 , 10.3578,\n",
      "       10.956 , 11.084 , 10.232 , 10.634 ,  9.9   , 10.907 , 11.78  ,\n",
      "       11.35  , 11.156 , 10.27  , 10.56  , 10.11  , 11.79  , 10.919 ,\n",
      "        9.87  , 11.12  , 11.35  , 10.33  , 10.9619, 10.793 , 11.764 ,\n",
      "        9.799 , 10.748 ,  8.743 , 10.152 ,  9.633 , 11.401 , 10.5212,\n",
      "        9.458 , 10.347 ,  9.978 ,  9.414 , 11.1314, 10.577 , 11.403 ,\n",
      "       10.9   ,  9.757 , 10.424 , 10.359 , 10.867 , 10.88  ,  8.444 ,\n",
      "        9.866 , 10.979 ,  9.651 , 10.7478,  9.341 ,  9.619 , 11.463 ,\n",
      "       10.51  , 10.064 ,  9.737 ,  8.867 , 10.715 , 11.075 , 11.654 ,\n",
      "        8.9025, 10.359 , 10.175 ,  8.461 ,  9.2832, 10.786 , 11.103 ,\n",
      "       10.532 , 10.104 , 10.963 ,  8.371 , 11.169 , 11.248 , 10.422 ,\n",
      "        9.133 , 10.109 ,  9.563 ,  9.14  ,  9.5517,  8.86  , 11.029 ,\n",
      "        9.355 , 10.914 ,  9.953 , 10.435 , 11.776 , 10.425 , 11.059 ,\n",
      "       10.504 , 10.127 ,  9.911 ,  8.793 , 10.315 ,  6.788 , 11.388 ,\n",
      "       10.634 , 11.557 , 11.073 , 10.404 , 10.1963,  9.633 , 10.4366,\n",
      "       10.475 ,  9.3809, 10.4246, 10.2438, 10.086 , 10.819 , 10.634 ]), 'y_cens': array([10.113, 11.301, 10.913,  9.5  ,  9.343, 11.047, 10.366, 10.644,\n",
      "       10.93 , 11.459, 10.268, 10.452, 10.945, 10.861,  9.506, 11.471,\n",
      "        9.4  , 10.72 , 11.44 ,  9.97 ,  9.028, 10.   , 10.   , 10.   ,\n",
      "       10.   , 10.   , 10.   , 10.   , 10.   , 10.   , 10.   , 10.   ,\n",
      "       10.   ])}\n",
      "Using cached StanModel\n"
     ]
    }
   ],
   "source": [
    "from des_sn_hosts.utils import stan_utility\n",
    "\n",
    "stretch_cond = pantheon['c']<0\n",
    "blue_SNe = pantheon[stretch_cond]\n",
    "red_SNe = pantheon[~stretch_cond]\n",
    "colours = itertools.cycle(['c','r'])\n",
    "imputed_data = []\n",
    "for SNe,sample_name in zip([blue_SNe,red_SNe],['$c <0$','$c\\geq0$']):\n",
    "    f,ax=plt.subplots(figsize=(8,6.5))\n",
    "    detections = SNe[SNe['logm_err']<2]\n",
    "    limits = SNe[SNe['logm_err']>2]\n",
    "    \n",
    "    c = next(colours)\n",
    "    data = dict(\n",
    "        N_obs = len(detections),\n",
    "        N_cens = len(limits),\n",
    "        y_obs = detections.logm.values,\n",
    "        y_cens = limits.logm.values\n",
    "        )\n",
    "    \n",
    "    model =stan_utility.compile_model('stan_models/normal_survival.stan')\n",
    "\n",
    "    fit =model.sampling(data=data, seed=1234, iter=int(2000),warmup=1000,n_jobs=4)\n",
    "\n",
    "    chains=fit.extract()\n",
    "\n",
    "    all_log_ms = np.concatenate([np.mean(chains['latent_y_cens'],axis=0).T,detections.logm.values.T])\n",
    "    sorted_ms,cdf = make_cdf(detections['logm'])\n",
    "    ax.step(sorted_ms,cdf,label='%s: Detections only'%sample_name,color='grey')\n",
    "    sorted_ms,cdf = make_cdf(all_log_ms)\n",
    "    imputed_data.append([sorted_ms,cdf])\n",
    "    ax.step(sorted_ms,cdf,label='%s: Detections and imputed limits (Single Gaussian)'%sample_name,color=c)\n",
    "    ax.legend()\n",
    "    ax.set_xlabel('$\\log (M/M_{\\odot})$',size=20)\n",
    "    ax.set_ylabel('$F(M)$',size=20)\n",
    "    ax.set_xlim(6.5,12)\n",
    "    plt.tight_layout()"
   ]
  },
  {
   "cell_type": "code",
   "execution_count": 44,
   "metadata": {},
   "outputs": [
    {
     "name": "stderr",
     "output_type": "stream",
     "text": [
      "<ipython-input-44-6f1c1273c681>:1: RuntimeWarning: More than 20 figures have been opened. Figures created through the pyplot interface (`matplotlib.pyplot.figure`) are retained until explicitly closed and may consume too much memory. (To control this warning, see the rcParam `figure.max_open_warning`).\n",
      "  f,ax=plt.subplots(figsize=(8,6.5))\n"
     ]
    },
    {
     "data": {
      "application/vnd.jupyter.widget-view+json": {
       "model_id": "9b1b229f7a154a9b9512e73d39f2e23d",
       "version_major": 2,
       "version_minor": 0
      },
      "text/plain": [
       "Canvas(toolbar=Toolbar(toolitems=[('Home', 'Reset original view', 'home', 'home'), ('Back', 'Back to previous …"
      ]
     },
     "metadata": {},
     "output_type": "display_data"
    }
   ],
   "source": [
    "f,ax=plt.subplots(figsize=(8,6.5))\n",
    "for counter,sample_name in enumerate(['$c <0$','$c\\geq0$']):\n",
    "    c = next(colours)\n",
    "    sorted_ms,cdf = imputed_data[counter]\n",
    "    ax.step(sorted_ms,cdf,label='%s: Detections and imputed limits (Single Gaussian)'%sample_name,color=c)\n",
    "\n",
    "for SNe,sample_name in zip([blue_SNe,red_SNe],['$c <0$','$c\\geq0$']):\n",
    "    SNe = SNe[SNe['logm_err']<2]\n",
    "    sorted_ms,cdf = make_cdf(SNe['logm'])\n",
    "    c = next(colours)\n",
    "    ax.step(sorted_ms,cdf,label='%s: Detections Only'%sample_name,color=c,lw=0.5,linestyle='--')\n",
    "ax.legend()\n",
    "ax.set_xlabel('$\\log (M/M_{\\odot})$',size=20)\n",
    "ax.set_ylabel('$F(M)$',size=20)\n",
    "ax.set_xlim(6.5,12)\n",
    "plt.tight_layout()\n",
    "plt.savefig(FIG_DIR+'mass_cdf_split_c_imputed_vs_detections')"
   ]
  },
  {
   "cell_type": "code",
   "execution_count": 23,
   "metadata": {},
   "outputs": [
    {
     "name": "stderr",
     "output_type": "stream",
     "text": [
      "<ipython-input-23-77c1e668c91a>:1: RuntimeWarning: More than 20 figures have been opened. Figures created through the pyplot interface (`matplotlib.pyplot.figure`) are retained until explicitly closed and may consume too much memory. (To control this warning, see the rcParam `figure.max_open_warning`).\n",
      "  f,ax=plt.subplots(figsize=(8,6.5))\n"
     ]
    },
    {
     "data": {
      "application/vnd.jupyter.widget-view+json": {
       "model_id": "00606f0eea6348eda5f3346a62b4e3c1",
       "version_major": 2,
       "version_minor": 0
      },
      "text/plain": [
       "Canvas(toolbar=Toolbar(toolitems=[('Home', 'Reset original view', 'home', 'home'), ('Back', 'Back to previous …"
      ]
     },
     "metadata": {},
     "output_type": "display_data"
    }
   ],
   "source": [
    "f,ax=plt.subplots(figsize=(8,6.5))\n",
    "for counter,sample_name in enumerate(['$c <0$','$c\\geq0$']):\n",
    "    c = next(colours)\n",
    "    \n",
    "    ax.hist(imputed_data[counter][0],label='%s: Detections and imputed limits (Single Gaussian)'%sample_name,color=c,histtype='step',density=True,bins=25)\n",
    "\n",
    "for SNe,sample_name in zip([blue_SNe,red_SNe],['$c <0$','$c\\geq0$']):\n",
    "    SNe = SNe[SNe['logm_err']<2]\n",
    "    \n",
    "    c = next(colours)\n",
    "    ax.hist(SNe['logm'],label='%s: Detections Only'%sample_name,color=c,lw=0.5,linestyle='--',histtype='step',density=True,bins=25)\n",
    "ax.legend(loc='upper left')\n",
    "ax.set_xlabel('$\\log (M/M_{\\odot})$',size=20)\n",
    "ax.set_ylabel('$f(M)$',size=20)\n",
    "ax.set_xlim(5,12.5)\n",
    "#ax.set_ylim(0,0.7)\n",
    "plt.tight_layout()\n",
    "plt.savefig(FIG_DIR+'mass_hist_split_c_imputed_vs_detections')"
   ]
  },
  {
   "cell_type": "code",
   "execution_count": 9,
   "metadata": {},
   "outputs": [
    {
     "data": {
      "application/vnd.jupyter.widget-view+json": {
       "model_id": "8b3b4529cc774497ac524a38662bdfaf",
       "version_major": 2,
       "version_minor": 0
      },
      "text/plain": [
       "Canvas(toolbar=Toolbar(toolitems=[('Home', 'Reset original view', 'home', 'home'), ('Back', 'Back to previous …"
      ]
     },
     "metadata": {},
     "output_type": "display_data"
    },
    {
     "name": "stdout",
     "output_type": "stream",
     "text": [
      "Using cached StanModel\n"
     ]
    },
    {
     "name": "stderr",
     "output_type": "stream",
     "text": [
      "INFO:numexpr.utils:Note: NumExpr detected 32 cores but \"NUMEXPR_MAX_THREADS\" not set, so enforcing safe limit of 8.\n"
     ]
    },
    {
     "data": {
      "application/vnd.jupyter.widget-view+json": {
       "model_id": "28cd603777904503805ea5d71360e491",
       "version_major": 2,
       "version_minor": 0
      },
      "text/plain": [
       "Canvas(toolbar=Toolbar(toolitems=[('Home', 'Reset original view', 'home', 'home'), ('Back', 'Back to previous …"
      ]
     },
     "metadata": {},
     "output_type": "display_data"
    },
    {
     "name": "stdout",
     "output_type": "stream",
     "text": [
      "Using cached StanModel\n"
     ]
    }
   ],
   "source": [
    "pantheon = pantheon[pantheon['logm']>6.1]\n",
    "stretch_cond = pantheon['c']<0\n",
    "blue_SNe = pantheon[stretch_cond]\n",
    "red_SNe = pantheon[~stretch_cond]\n",
    "colours = itertools.cycle(['c','r'])\n",
    "imputed_data = []\n",
    "fit_params = []\n",
    "\n",
    "for SNe,sample_name in zip([blue_SNe,red_SNe],['$c <0$','$c\\geq0$']):\n",
    "    f,ax=plt.subplots(figsize=(8,6.5))\n",
    "    detections = SNe[SNe['logm_err']<2]\n",
    "    limits = SNe[SNe['logm_err']>2]\n",
    "    \n",
    "    c = next(colours)\n",
    "    data = dict(\n",
    "        N_obs = len(detections),\n",
    "        N_cens = len(limits),\n",
    "        y_obs = detections.logm.values,\n",
    "        y_cens = limits.logm.values,\n",
    "        y_err = detections.logm_err.values,\n",
    "        )\n",
    "    model =stan_utility.compile_model('stan_models/normal_survival_mix.stan')\n",
    "    fit =model.sampling(data=data, seed=1234, iter=int(2000),warmup=1000,n_jobs=4)\n",
    "    chains_all_errs = fit.extract()\n",
    "\n",
    "    all_log_ms = np.concatenate([chains_all_errs['latent_y_cens'].T,chains_all_errs['latent_y'].T])\n",
    "    sorted_ms,cdf = make_cdf(detections['logm'])\n",
    "    ax.step(sorted_ms,cdf,label='%s: Detections only'%sample_name,color='grey')\n",
    "    sorted_ms,cdf = make_cdf(np.mean(all_log_ms,axis=1))\n",
    "    imputed_data.append([all_log_ms,sorted_ms,cdf])\n",
    "    fit_params.append([chains_all_errs['mu1'],chains_all_errs['mu2'],chains_all_errs['sigma1'],chains_all_errs['sigma2'],chains_all_errs['theta']])\n",
    "    ax.step(sorted_ms,cdf,label='%s: Detections and imputed limits (Gaussian Mixture)'%sample_name,color=c)\n",
    "    \n",
    "    T = detections['logm']\n",
    "    E = detections['logm_err'].apply(lambda x: x<2).astype(int)\n",
    "    \n",
    "\n",
    "    from lifelines import KaplanMeierFitter\n",
    "    kmf = KaplanMeierFitter()\n",
    "\n",
    "    kmf.fit_left_censoring(T, E)\n",
    "    kmf.plot_cumulative_density(label='Kaplan-Meier left_censored',color='m')\n",
    "    ax.legend()\n",
    "    ax.set_xlabel('$\\log (M/M_{\\odot})$',size=20)\n",
    "    ax.set_ylabel('$F(M)$',size=20)\n",
    "    ax.set_xlim(5,12)\n",
    "    plt.tight_layout()\n",
    "\n"
   ]
  },
  {
   "cell_type": "code",
   "execution_count": 20,
   "metadata": {},
   "outputs": [],
   "source": [
    "import arviz as az\n",
    "data = az.from_pystan(fit)\n"
   ]
  },
  {
   "cell_type": "code",
   "execution_count": 27,
   "metadata": {},
   "outputs": [
    {
     "data": {
      "application/vnd.jupyter.widget-view+json": {
       "model_id": "439f4005c91d4d31bdc32ac77ac5018d",
       "version_major": 2,
       "version_minor": 0
      },
      "text/plain": [
       "Canvas(toolbar=Toolbar(toolitems=[('Home', 'Reset original view', 'home', 'home'), ('Back', 'Back to previous …"
      ]
     },
     "metadata": {},
     "output_type": "display_data"
    },
    {
     "name": "stderr",
     "output_type": "stream",
     "text": [
      "/media/data3/wiseman/anaconda3/lib/python3.8/site-packages/arviz/plots/jointplot.py:144: UserWarning: plot_joint will be deprecated. Please use plot_pair instead.\n",
      "  warnings.warn(\"plot_joint will be deprecated. Please use plot_pair instead.\")\n"
     ]
    },
    {
     "data": {
      "application/vnd.jupyter.widget-view+json": {
       "model_id": "2206c8ac7d1343f3b65f4e6901ced8f3",
       "version_major": 2,
       "version_minor": 0
      },
      "text/plain": [
       "Canvas(toolbar=Toolbar(toolitems=[('Home', 'Reset original view', 'home', 'home'), ('Back', 'Back to previous …"
      ]
     },
     "metadata": {},
     "output_type": "display_data"
    },
    {
     "data": {
      "text/plain": [
       "array([<matplotlib.axes._subplots.AxesSubplot object at 0x2ac88a771340>,\n",
       "       <matplotlib.axes._subplots.AxesSubplot object at 0x2ac88a797d30>,\n",
       "       <matplotlib.axes._subplots.AxesSubplot object at 0x2ac88a7ccd30>],\n",
       "      dtype=object)"
      ]
     },
     "execution_count": 27,
     "metadata": {},
     "output_type": "execute_result"
    }
   ],
   "source": [
    "az.plot_trace(data,var_names=['mu1','sigma1','mu2','sigma2','latent_y_cens'],compact=True,)\n",
    "az.plot_joint(data,var_names=['mu1','mu2',],kind='kde',)"
   ]
  },
  {
   "cell_type": "code",
   "execution_count": 28,
   "metadata": {},
   "outputs": [
    {
     "data": {
      "application/vnd.jupyter.widget-view+json": {
       "model_id": "54f4a2c2bcd647f8828c39f116712186",
       "version_major": 2,
       "version_minor": 0
      },
      "text/plain": [
       "Canvas(toolbar=Toolbar(toolitems=[('Home', 'Reset original view', 'home', 'home'), ('Back', 'Back to previous …"
      ]
     },
     "metadata": {},
     "output_type": "display_data"
    }
   ],
   "source": [
    "colours = itertools.cycle(['c','r'])\n",
    "f,ax=plt.subplots(figsize=(8,6.5))\n",
    "for counter,sample_name in enumerate(['$c <0$','$c\\geq0$']):\n",
    "    c = next(colours)\n",
    "    all_imputed = imputed_data[counter][0]\n",
    "    for i in range(len(all_imputed)):\n",
    "        label=None\n",
    "        if i ==0:\n",
    "            label='Imputed %s'%sample_name\n",
    "        sorted_ms,cdf = make_cdf(all_imputed[:,i])\n",
    "        ax.step(sorted_ms,cdf,linewidth=0.05,color=c,alpha=0.2,label=label)\n",
    "for SNe,sample_name in zip([blue_SNe,red_SNe],['$c <0$','$c\\geq0$']):\n",
    "    SNe = SNe[SNe['logm_err']<2]\n",
    "    \n",
    "    c = next(colours)\n",
    "    sorted_ms,cdf = make_cdf(SNe['logm'])\n",
    "    ax.step(sorted_ms,cdf,label='%s: Detections only'%sample_name,color=c,linestyle='--')\n",
    "    \n",
    "    T = SNe['logm']\n",
    "    E = SNe['logm_err'].apply(lambda x: x<2).astype(int)\n",
    "    \n",
    "\n",
    "    from lifelines import KaplanMeierFitter\n",
    "    kmf = KaplanMeierFitter()\n",
    "\n",
    "    kmf.fit_left_censoring(T, E)\n",
    "    kmf.plot_cumulative_density(label='Kaplan-Meier left_censored',color=c,ci_show=False,linestyle=':')\n",
    "leg =ax.legend(loc='upper left')\n",
    "for lh in leg.legendHandles:\n",
    "    lh.set_alpha(1)\n",
    "    lh.set_linewidth(1)\n",
    "ax.set_xlabel('$\\log (M/M_{\\odot})$',size=20)\n",
    "ax.set_ylabel('$F(M)$',size=20)\n",
    "ax.set_xlim(6.5,12)\n",
    "#ax.set_ylim(0,0.7)\n",
    "plt.tight_layout()\n",
    "plt.savefig(FIG_DIR+'mass_CDF_split_c_imputed_mixture_vs_detections')"
   ]
  },
  {
   "cell_type": "code",
   "execution_count": 27,
   "metadata": {},
   "outputs": [
    {
     "data": {
      "application/vnd.jupyter.widget-view+json": {
       "model_id": "0bf47dfd8ab942ac9a4f218b9a56c851",
       "version_major": 2,
       "version_minor": 0
      },
      "text/plain": [
       "Canvas(toolbar=Toolbar(toolitems=[('Home', 'Reset original view', 'home', 'home'), ('Back', 'Back to previous …"
      ]
     },
     "metadata": {},
     "output_type": "display_data"
    }
   ],
   "source": [
    "\n",
    "f,ax=plt.subplots(figsize=(8,6.5))\n",
    "for counter,sample_name in enumerate(['$c <0$','$c\\geq0$']):\n",
    "    c = next(colours)\n",
    "    params = fit_params[counter]\n",
    "    \n",
    "    mu1,mu2,sigma1,sigma2,theta = [params[i] for i in range(len(params))]\n",
    "    \n",
    "    #ax.hist(imputed_data[counter][0],label='%s: Detections and imputed limits (Gaussian Mixture)'%sample_name,color=c*4000,histtype='step',density=True,bins=25)\n",
    "    xs = np.linspace(5,13,1000)\n",
    "    bw = ((np.max(xs)-np.min(xs))/100)\n",
    "    for j in range(len(mu1)):\n",
    "        label=None\n",
    "        if j ==0:\n",
    "            label='Imputed %s'%sample_name\n",
    "        ys = theta[j]*stats.norm(mu1[j],sigma1[j]).pdf(xs)+ ((1-theta[j])*stats.norm(mu2[j],sigma2[j]).pdf(xs))\n",
    "        ax.step(xs,ys,linewidth=0.05,c=c,alpha=0.1,label=label)\n",
    "for SNe,sample_name in zip([blue_SNe,red_SNe],['$c <0$','$c\\geq0$']):\n",
    "    SNe = SNe[SNe['logm_err']<2]\n",
    "    \n",
    "    c = next(colours)\n",
    "    #ax.hist(SNe['logm'],label='%s: Detections Only'%sample_name,color=c,linestyle='--',histtype='step',density=True,bins=25,)\n",
    "    plot_hist(SNe['logm'],SNe['logm'].min(),SNe['logm'].max(),0.25,axhist=ax,label='%s: Detections Only'%sample_name,color=c,linestyle='--',density=True)\n",
    "\n",
    "ax.set_xlabel('$\\log (M/M_{\\odot})$',size=20)\n",
    "ax.set_ylabel('$f(M)$',size=20)\n",
    "ax.set_xlim(6.5,12.)\n",
    "#ax.set_ylim(0,0.7)\n",
    "plt.tight_layout()\n",
    "leg =ax.legend(loc='upper left')\n",
    "for lh in leg.legendHandles:\n",
    "    lh.set_alpha(1)\n",
    "    lh.set_linewidth(1)\n",
    "plt.savefig(FIG_DIR+'mass_hist_split_c_imputed_mixture_vs_detections')"
   ]
  },
  {
   "cell_type": "code",
   "execution_count": 26,
   "metadata": {},
   "outputs": [],
   "source": []
  },
  {
   "cell_type": "code",
   "execution_count": 32,
   "metadata": {},
   "outputs": [
    {
     "data": {
      "text/plain": [
       "9.809783993096936"
      ]
     },
     "execution_count": 32,
     "metadata": {},
     "output_type": "execute_result"
    }
   ],
   "source": [
    "mu1[0]"
   ]
  },
  {
   "cell_type": "code",
   "execution_count": 54,
   "metadata": {},
   "outputs": [
    {
     "data": {
      "text/plain": [
       "(608, 4000)"
      ]
     },
     "execution_count": 54,
     "metadata": {},
     "output_type": "execute_result"
    }
   ],
   "source": [
    "imputed_data[0][0].shape"
   ]
  },
  {
   "cell_type": "code",
   "execution_count": 17,
   "metadata": {},
   "outputs": [],
   "source": [
    "def plot_hist(x,lo,hi,step,axhist,weights = [],density=False,**kwargs):\n",
    "    \n",
    "    bins = np.linspace(lo,hi,int((hi-lo)/step),endpoint=False)\n",
    "    bin_centers = (bins [:-1] + bins [1:])/2\n",
    "    frac_obj = []\n",
    "    n_obj = []\n",
    "    frac_errs = []\n",
    "    bw = bins[-1] - bins[-2]\n",
    "    for counter,bl in enumerate(bins[:-1]):\n",
    "        if len(weights)>0:\n",
    "            n_in_bin = np.sum(weights[(x>bl)&(x<=bl+(bw))])\n",
    "        else: \n",
    "            n_in_bin = len(x[(x>bl)&(x<=bl+(bw))])\n",
    "        frac_obj.append(n_in_bin/len(x))\n",
    "        n_obj.append(n_in_bin)\n",
    "        frac_errs.append(np.sqrt(n_in_bin)/len(x))\n",
    "    if density:\n",
    "        axhist.step(bin_centers,frac_obj/bw,linewidth=2,where='mid',**kwargs)\n",
    "    else:\n",
    "        axhist.step(bin_centers,n_obj/bw,linewidth=2,where='mid',**kwargs)\n"
   ]
  },
  {
   "cell_type": "code",
   "execution_count": null,
   "metadata": {},
   "outputs": [],
   "source": []
  }
 ],
 "metadata": {
  "kernelspec": {
   "display_name": "Python 3",
   "language": "python",
   "name": "python3"
  },
  "language_info": {
   "codemirror_mode": {
    "name": "ipython",
    "version": 3
   },
   "file_extension": ".py",
   "mimetype": "text/x-python",
   "name": "python",
   "nbconvert_exporter": "python",
   "pygments_lexer": "ipython3",
   "version": "3.8.3"
  }
 },
 "nbformat": 4,
 "nbformat_minor": 4
}
