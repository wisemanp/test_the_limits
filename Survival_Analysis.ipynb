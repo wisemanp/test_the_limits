{
 "cells": [
  {
   "cell_type": "code",
   "execution_count": 2,
   "metadata": {},
   "outputs": [],
   "source": [
    "import numpy as np\n",
    "import pandas as pd\n",
    "import matplotlib.pyplot as plt\n",
    "import matplotlib.ticker as ticker\n",
    "from matplotlib.lines import Line2D\n",
    "import seaborn as sns\n",
    "from scipy import stats\n",
    "from astropy.table import Table\n",
    "import warnings\n",
    "from astropy.utils.exceptions import AstropyWarning\n",
    "import itertools\n",
    "np.seterr(all='ignore')\n",
    "warnings.simplefilter('ignore', category=AstropyWarning)\n",
    "plt.style.use('dark_background')\n",
    "plt.rcParams.update({'figure.facecolor':'#16191C'})\n",
    "plt.rcParams.update({'axes.facecolor':'#16191C'})\n",
    "%matplotlib widget\n",
    "sns.set_color_codes(palette='colorblind')"
   ]
  },
  {
   "cell_type": "markdown",
   "metadata": {},
   "source": [
    "First, read in data. Let's take the Pantheon SN Ia dataset (Scolnic et al. 2018), with over 1000 SNe Ia"
   ]
  },
  {
   "cell_type": "code",
   "execution_count": 3,
   "metadata": {},
   "outputs": [],
   "source": [
    "def rewrite_mass_columns(df,mass_cn,err_cn,pm=False):\n",
    "    '''A function to '''\n",
    "    df.rename(columns={mass_cn:'logm',err_cn:'logm_err'},inplace=True)\n",
    "    if pm:\n",
    "        df['logm_err'] = np.abs(df['logm']-df['logm_err'])\n",
    "    df['detection'] = pd.Series((df['logm_err']>0),index=df.index)\n",
    "    return df"
   ]
  },
  {
   "cell_type": "code",
   "execution_count": 4,
   "metadata": {},
   "outputs": [],
   "source": [
    "pantheon = pd.read_csv('/media/data3/wiseman/des/hosts/ps1_s18.dat',sep = ' ',skipinitialspace=True)\n",
    "pantheon = pantheon[pantheon['HOST_LOGMASS']>5.01]\n",
    "pantheon = rewrite_mass_columns(pantheon,'HOST_LOGMASS','HOST_LOGMASS_ERR')\n"
   ]
  },
  {
   "cell_type": "code",
   "execution_count": 61,
   "metadata": {},
   "outputs": [],
   "source": [
    "# define some convenience functions to make a CDF and draw some uncertainties on it\n",
    "def make_cdf(arr):\n",
    "    sorted_arr = np.sort(arr)\n",
    "    cumsum = np.cumsum(sorted_arr)\n",
    "    cumsum /=cumsum[-1]\n",
    "    return sorted_arr,cumsum\n",
    "\n",
    "def perturb_arr_normal(vals,lowerrs,upperrs):\n",
    "    peturbed = np.random.normal(vals,np.mean([lowerrs,upperrs]))\n",
    "    return peturbed\n",
    "def plot_hist(x,lo,hi,step,axhist,weights = [],density=False,**kwargs):\n",
    "    \n",
    "    bins = np.linspace(lo,hi,int((hi-lo)/step),endpoint=False)\n",
    "    bin_centers = (bins [:-1] + bins [1:])/2\n",
    "    frac_obj = []\n",
    "    n_obj = []\n",
    "    frac_errs = []\n",
    "    bw = bins[-1] - bins[-2]\n",
    "    for counter,bl in enumerate(bins[:-1]):\n",
    "        if len(weights)>0:\n",
    "            n_in_bin = np.sum(weights[(x>bl)&(x<=bl+(bw))])\n",
    "        else: \n",
    "            n_in_bin = len(x[(x>bl)&(x<=bl+(bw))])\n",
    "        frac_obj.append(n_in_bin/len(x))\n",
    "        n_obj.append(n_in_bin)\n",
    "        frac_errs.append(np.sqrt(n_in_bin)/len(x))\n",
    "    if density:\n",
    "        axhist.step(bin_centers,frac_obj/bw,linewidth=2,where='mid',**kwargs)\n",
    "    else:\n",
    "        axhist.step(bin_centers,n_obj/bw,linewidth=2,where='mid',**kwargs)\n"
   ]
  },
  {
   "cell_type": "code",
   "execution_count": 8,
   "metadata": {},
   "outputs": [
    {
     "data": {
      "application/vnd.jupyter.widget-view+json": {
       "model_id": "ffad77b351ee42d39886868429a66190",
       "version_major": 2,
       "version_minor": 0
      },
      "text/plain": [
       "Canvas(toolbar=Toolbar(toolitems=[('Home', 'Reset original view', 'home', 'home'), ('Back', 'Back to previous …"
      ]
     },
     "metadata": {},
     "output_type": "display_data"
    },
    {
     "data": {
      "text/plain": [
       "Text(0, 0.5, '$F(M)$')"
      ]
     },
     "execution_count": 8,
     "metadata": {},
     "output_type": "execute_result"
    }
   ],
   "source": [
    "f,ax=plt.subplots(figsize=(8,6.5))\n",
    "sorted_ms,cdf = make_cdf(pantheon['logm'])\n",
    "ax.step(sorted_ms,cdf,label='Pantheon SNe')\n",
    "ax.set_xlabel('$\\log (M/M_{\\odot})$',size=20)\n",
    "ax.set_ylabel('$F(M)$',size=20)"
   ]
  },
  {
   "cell_type": "markdown",
   "metadata": {},
   "source": [
    "So this CDF looks fairly standard, with a long low-mass tail -- I bet these aren't real galaxies (No SNe explode in galaxies with log M < 7, there aren't enough stars. Anyway, we'll save that for later. For now, let's do some sample comparisons. Let's split the data up by their stretch parameter, x1, which is known to correlate with mass (e.g. Sullivan et al. 2010)"
   ]
  },
  {
   "cell_type": "code",
   "execution_count": 10,
   "metadata": {},
   "outputs": [
    {
     "data": {
      "application/vnd.jupyter.widget-view+json": {
       "model_id": "5e3e0d1f19ca4b82b4b8c2afb40d30ac",
       "version_major": 2,
       "version_minor": 0
      },
      "text/plain": [
       "Canvas(toolbar=Toolbar(toolitems=[('Home', 'Reset original view', 'home', 'home'), ('Back', 'Back to previous …"
      ]
     },
     "metadata": {},
     "output_type": "display_data"
    },
    {
     "data": {
      "text/plain": [
       "<matplotlib.legend.Legend at 0x2ba173025790>"
      ]
     },
     "execution_count": 10,
     "metadata": {},
     "output_type": "execute_result"
    }
   ],
   "source": [
    "import itertools \n",
    "stretch_cond = pantheon['x1']<0\n",
    "low_stretch_SNe = pantheon[stretch_cond]\n",
    "high_stretch_SNe = pantheon[~stretch_cond]\n",
    "colours = itertools.cycle(['purple','y'])\n",
    "f,ax=plt.subplots(figsize=(8,6.5))\n",
    "for SNe,sample_name in zip([low_stretch_SNe,high_stretch_SNe],['$x_1 <0$','$x_1\\geq0$']):\n",
    "    sorted_ms,cdf = make_cdf(SNe['logm'])\n",
    "    ax.step(sorted_ms,cdf,label=sample_name,c=next(colours))\n",
    "ax.set_xlabel('$\\log (M/M_{\\odot})$',size=20)\n",
    "ax.set_ylabel('$F(M)$',size=20)\n",
    "ax.legend(loc='upper left',fontsize=16)"
   ]
  },
  {
   "cell_type": "markdown",
   "metadata": {},
   "source": [
    "The low stretch SNe are clearly shifted to higher mass than the high-stretch objects. Usually, people would just do a KS test and be done with it. So let's do that..."
   ]
  },
  {
   "cell_type": "code",
   "execution_count": 11,
   "metadata": {},
   "outputs": [
    {
     "data": {
      "text/plain": [
       "KstestResult(statistic=0.2780124941320911, pvalue=1.6527576345946424e-17)"
      ]
     },
     "execution_count": 11,
     "metadata": {},
     "output_type": "execute_result"
    }
   ],
   "source": [
    "stats.ks_2samp(low_stretch_SNe.logm,high_stretch_SNe.logm)"
   ]
  },
  {
   "cell_type": "markdown",
   "metadata": {},
   "source": [
    "The p-value is tiny; we'd say that these samples are unambiguously drawn from different parent distributions. But, we've made a lot of assumptions -- How do we know that the objects don't have a mass uncertainty that's larger than their differences? What about the x1 split, how many objects are on the wrong side and could that change things? \n",
    "\n",
    "First, let's resample from the mass uncertainties and reestimate the CDF"
   ]
  },
  {
   "cell_type": "code",
   "execution_count": 13,
   "metadata": {},
   "outputs": [
    {
     "data": {
      "application/vnd.jupyter.widget-view+json": {
       "model_id": "2263b2c029f54be9ad03fbc69ddc7b99",
       "version_major": 2,
       "version_minor": 0
      },
      "text/plain": [
       "Canvas(toolbar=Toolbar(toolitems=[('Home', 'Reset original view', 'home', 'home'), ('Back', 'Back to previous …"
      ]
     },
     "metadata": {},
     "output_type": "display_data"
    },
    {
     "data": {
      "text/plain": [
       "<matplotlib.legend.Legend at 0x2ba1766baee0>"
      ]
     },
     "execution_count": 13,
     "metadata": {},
     "output_type": "execute_result"
    }
   ],
   "source": [
    "f,ax=plt.subplots(figsize=(8,6.5))\n",
    "for SNe,sample_name in zip([low_stretch_SNe,high_stretch_SNe],['$x_1 <0$','$x_1\\geq0$']):\n",
    "    sorted_ms,cdf = make_cdf(SNe['logm'])\n",
    "    c = next(colours)\n",
    "    ax.step(sorted_ms,cdf,label=sample_name,color=c)\n",
    "    for i in range(100):\n",
    "        perturbed = perturb_arr_normal(SNe['logm'],SNe['logm_err'],SNe['logm_err'])\n",
    "        sorted_ms,cdf = make_cdf(perturbed)\n",
    "        ax.step(sorted_ms,cdf,linewidth=0.025,color=c)\n",
    "ax.set_xlabel('$\\log (M/M_{\\odot})$',size=20)\n",
    "ax.set_ylabel('$F(M)$',size=20)\n",
    "ax.legend(loc='upper left',fontsize=16)"
   ]
  },
  {
   "cell_type": "markdown",
   "metadata": {},
   "source": [
    "# Uh-oh!\n",
    "The estimated CDFs from resampled data are being dragged out to unphysical low and high masses due to some poorly constrained uncertainties -- our CDF is being entirely driven by the errors"
   ]
  },
  {
   "cell_type": "code",
   "execution_count": 15,
   "metadata": {},
   "outputs": [
    {
     "data": {
      "text/plain": [
       "99.0"
      ]
     },
     "execution_count": 15,
     "metadata": {},
     "output_type": "execute_result"
    }
   ],
   "source": [
    "#Let's see if there are some ridiculous errors\n",
    "pantheon['logm_err'].max()"
   ]
  },
  {
   "cell_type": "code",
   "execution_count": 16,
   "metadata": {},
   "outputs": [
    {
     "data": {
      "text/plain": [
       "26"
      ]
     },
     "execution_count": 16,
     "metadata": {},
     "output_type": "execute_result"
    }
   ],
   "source": [
    "len(pantheon[pantheon['logm_err']==99])"
   ]
  },
  {
   "cell_type": "code",
   "execution_count": 17,
   "metadata": {},
   "outputs": [
    {
     "data": {
      "text/plain": [
       "111"
      ]
     },
     "execution_count": 17,
     "metadata": {},
     "output_type": "execute_result"
    }
   ],
   "source": [
    "len(pantheon[pantheon['logm_err']>1])"
   ]
  },
  {
   "cell_type": "markdown",
   "metadata": {},
   "source": [
    "Wow. 111 objects have a mass uncertainty greater than 1 order of magnitude. The errors that are 99 are clearly meant to be \"non detections\". That's basically saying we have no idea -- there could be 10^9 stars, but also 10^11. Resampling from these broad distributions is completely smearing out our CDF. How should we deal with this? Let's get rid of them first, and see what happens."
   ]
  },
  {
   "cell_type": "code",
   "execution_count": 18,
   "metadata": {},
   "outputs": [
    {
     "data": {
      "application/vnd.jupyter.widget-view+json": {
       "model_id": "6c1788571bfe4eacb085ea6dcb739785",
       "version_major": 2,
       "version_minor": 0
      },
      "text/plain": [
       "Canvas(toolbar=Toolbar(toolitems=[('Home', 'Reset original view', 'home', 'home'), ('Back', 'Back to previous …"
      ]
     },
     "metadata": {},
     "output_type": "display_data"
    },
    {
     "data": {
      "text/plain": [
       "<matplotlib.legend.Legend at 0x2ba17793fbe0>"
      ]
     },
     "execution_count": 18,
     "metadata": {},
     "output_type": "execute_result"
    }
   ],
   "source": [
    "colours = itertools.cycle(['purple','y'])\n",
    "f,ax=plt.subplots(figsize=(8,6.5))\n",
    "for SNe,sample_name in zip([low_stretch_SNe,high_stretch_SNe],['$x_1 <0$','$x_1\\geq0$']):\n",
    "    SNe = SNe[SNe['logm_err']<10]\n",
    "    sorted_ms,cdf = make_cdf(SNe['logm'])\n",
    "    c = next(colours)\n",
    "    ax.step(sorted_ms,cdf,label=sample_name,color=c)\n",
    "    for i in range(100):\n",
    "        perturbed = perturb_arr_normal(SNe['logm'],SNe['logm_err'],SNe['logm_err'])\n",
    "        sorted_ms,cdf = make_cdf(perturbed)\n",
    "        ax.step(sorted_ms,cdf,linewidth=0.025,color=c)\n",
    "ax.set_xlabel('$\\log (M/M_{\\odot})$',size=20)\n",
    "ax.set_ylabel('$F(M)$',size=20)\n",
    "ax.legend(loc='upper left',fontsize=16)"
   ]
  },
  {
   "cell_type": "markdown",
   "metadata": {},
   "source": [
    "We're still a bit off. What's most interesting is what is happening at low and high masses - the CDF is getting blurred a bit. This is because the resampling will always act to pull a few of the high mass objects even higher, and a few of the low mass objects even lower. So maybe this is giving us a better estimate of the _true_ CDF compared to the noisy one given by the point estimates of the data.\n",
    "\n",
    "Pantheon is a compilation of various surveys, each with their own host stellar mass estimation techniques. It appears that some defaulted to different logm_err values if the mass was poorly constrained:"
   ]
  },
  {
   "cell_type": "code",
   "execution_count": 19,
   "metadata": {},
   "outputs": [
    {
     "data": {
      "application/vnd.jupyter.widget-view+json": {
       "model_id": "b934759a04a44e95822515420eca3ab7",
       "version_major": 2,
       "version_minor": 0
      },
      "text/plain": [
       "Canvas(toolbar=Toolbar(toolitems=[('Home', 'Reset original view', 'home', 'home'), ('Back', 'Back to previous …"
      ]
     },
     "metadata": {},
     "output_type": "display_data"
    },
    {
     "data": {
      "text/plain": [
       "Text(0, 0.5, 'Counts')"
      ]
     },
     "execution_count": 19,
     "metadata": {},
     "output_type": "execute_result"
    }
   ],
   "source": [
    "f,ax=plt.subplots(figsize=(8,6.5))\n",
    "ax.hist(pantheon.logm_err,bins=np.logspace(-2,2,100))\n",
    "ax.set_xscale('log')\n",
    "ax.set_xlabel('Mass uncertainty',size=20)\n",
    "ax.set_ylabel('Counts',size=20)\n"
   ]
  },
  {
   "cell_type": "markdown",
   "metadata": {},
   "source": [
    "Ok; it looks like errors are lognormally distributed with a cut at about 2. Let's assume that anything with an error larger than that is uncontrained, i.e. the data point is a limit!"
   ]
  },
  {
   "cell_type": "code",
   "execution_count": 21,
   "metadata": {},
   "outputs": [
    {
     "data": {
      "application/vnd.jupyter.widget-view+json": {
       "model_id": "da8ca7f21e1d4c13b22ea567065a854a",
       "version_major": 2,
       "version_minor": 0
      },
      "text/plain": [
       "Canvas(toolbar=Toolbar(toolitems=[('Home', 'Reset original view', 'home', 'home'), ('Back', 'Back to previous …"
      ]
     },
     "metadata": {},
     "output_type": "display_data"
    },
    {
     "data": {
      "text/plain": [
       "<matplotlib.legend.Legend at 0x2ba17d623610>"
      ]
     },
     "execution_count": 21,
     "metadata": {},
     "output_type": "execute_result"
    }
   ],
   "source": [
    "colours = itertools.cycle(['purple','y'])\n",
    "f,ax=plt.subplots(figsize=(8,6.5))\n",
    "for SNe,sample_name in zip([low_stretch_SNe,high_stretch_SNe],['$x_1 <0$','$x_1\\geq0$']):\n",
    "    SNe = SNe[SNe['logm_err']<2]\n",
    "    sorted_ms,cdf = make_cdf(SNe['logm'])\n",
    "    c = next(colours)\n",
    "    ax.step(sorted_ms,cdf,label=sample_name,color=c)\n",
    "    for i in range(100):\n",
    "        perturbed = perturb_arr_normal(SNe['logm'],SNe['logm_err'],SNe['logm_err'])\n",
    "        sorted_ms,cdf = make_cdf(perturbed)\n",
    "        ax.step(sorted_ms,cdf,linewidth=0.025,color=c)\n",
    "ax.set_xlabel('$\\log (M/M_{\\odot})$',size=20)\n",
    "ax.set_ylabel('$F(M)$',size=20)\n",
    "ax.legend(loc='upper left',fontsize=16)\n"
   ]
  },
  {
   "cell_type": "markdown",
   "metadata": {},
   "source": [
    "Ok, so we now have 100 resampled CDFs that seem to bound the data for almost the entire range of the data. We're getting there! Let's go and do that horrible KS-testing stuff."
   ]
  },
  {
   "cell_type": "code",
   "execution_count": 22,
   "metadata": {},
   "outputs": [],
   "source": [
    "ks_stats = []\n",
    "for i in range(1000):\n",
    "    samples =[]\n",
    "    for SNe,sample_name in zip([low_stretch_SNe,high_stretch_SNe],['$x_1 <0$','$x_1\\geq0$']):\n",
    "        SNe = SNe[SNe['logm_err']<2]\n",
    "        perturbed = perturb_arr_normal(SNe['logm'],SNe['logm_err'],SNe['logm_err'])\n",
    "        samples.append(perturbed)\n",
    "    stat,pval = stats.ks_2samp(samples[0],samples[1])\n",
    "    ks_stats.append([stat,pval])\n",
    "ks_stats = np.array(ks_stats)    "
   ]
  },
  {
   "cell_type": "code",
   "execution_count": 23,
   "metadata": {},
   "outputs": [
    {
     "name": "stdout",
     "output_type": "stream",
     "text": [
      "KS mean:  [2.86394180e-01 2.04991579e-15]\n",
      "KS std:  [1.11095746e-02 8.34296718e-15]\n"
     ]
    }
   ],
   "source": [
    "print('KS mean: ',np.mean(ks_stats,axis=0))\n",
    "print('KS std: ',np.std(ks_stats,axis=0))"
   ]
  },
  {
   "cell_type": "code",
   "execution_count": 24,
   "metadata": {},
   "outputs": [
    {
     "data": {
      "application/vnd.jupyter.widget-view+json": {
       "model_id": "ef49db2706704b6d8264e103a392e7c0",
       "version_major": 2,
       "version_minor": 0
      },
      "text/plain": [
       "Canvas(toolbar=Toolbar(toolitems=[('Home', 'Reset original view', 'home', 'home'), ('Back', 'Back to previous …"
      ]
     },
     "metadata": {},
     "output_type": "display_data"
    },
    {
     "data": {
      "text/plain": [
       "Text(0, 0.5, 'Count')"
      ]
     },
     "execution_count": 24,
     "metadata": {},
     "output_type": "execute_result"
    }
   ],
   "source": [
    "f,ax=plt.subplots(figsize=(8,6.5))\n",
    "ax.hist(ks_stats[:,1],bins=np.logspace(-15,-13,100))\n",
    "ax.set_xscale('log')\n",
    "ax.set_xlabel('KS p-value')\n",
    "ax.set_ylabel('Count')"
   ]
  },
  {
   "cell_type": "markdown",
   "metadata": {},
   "source": [
    "Ok, not a good example as those samples are clearly different. How about SN colour?"
   ]
  },
  {
   "cell_type": "code",
   "execution_count": 26,
   "metadata": {},
   "outputs": [
    {
     "data": {
      "application/vnd.jupyter.widget-view+json": {
       "model_id": "8bb969245759429182fd7a62b21d77b1",
       "version_major": 2,
       "version_minor": 0
      },
      "text/plain": [
       "Canvas(toolbar=Toolbar(toolitems=[('Home', 'Reset original view', 'home', 'home'), ('Back', 'Back to previous …"
      ]
     },
     "metadata": {},
     "output_type": "display_data"
    },
    {
     "data": {
      "text/plain": [
       "Text(0, 0.5, '$F(M)$')"
      ]
     },
     "execution_count": 26,
     "metadata": {},
     "output_type": "execute_result"
    }
   ],
   "source": [
    "stretch_cond = pantheon['c']<0\n",
    "blue_SNe = pantheon[stretch_cond]\n",
    "red_SNe = pantheon[~stretch_cond]\n",
    "colours = itertools.cycle(['c','r'])\n",
    "f,ax=plt.subplots(figsize=(8,6.5))\n",
    "for SNe,sample_name in zip([blue_SNe,red_SNe],['$c <0$','$c\\geq0$']):\n",
    "    #SNe = SNe[SNe['logm_err']<2]\n",
    "    sorted_ms,cdf = make_cdf(SNe['logm'])\n",
    "    c = next(colours)\n",
    "    \n",
    "    ax.step(sorted_ms,cdf,label=sample_name,color=c)\n",
    "ax.legend(fontsize=16)\n",
    "ax.set_xlabel('$\\log (M/M_{\\odot})$',size=20)\n",
    "ax.set_ylabel('$F(M)$',size=20)\n"
   ]
  },
  {
   "cell_type": "code",
   "execution_count": 27,
   "metadata": {},
   "outputs": [
    {
     "data": {
      "application/vnd.jupyter.widget-view+json": {
       "model_id": "34167eff748946e4b4c3b0862c15c3a4",
       "version_major": 2,
       "version_minor": 0
      },
      "text/plain": [
       "Canvas(toolbar=Toolbar(toolitems=[('Home', 'Reset original view', 'home', 'home'), ('Back', 'Back to previous …"
      ]
     },
     "metadata": {},
     "output_type": "display_data"
    },
    {
     "name": "stdout",
     "output_type": "stream",
     "text": [
      "KS stat:  0.06612608438232039 KS pval:  0.29053979263886043\n",
      "KS mean:  [0.06979536 0.25693927]\n",
      "KS std:  [0.00867714 0.12552954]\n"
     ]
    }
   ],
   "source": [
    "f,ax=plt.subplots(figsize=(8,6.5))\n",
    "\n",
    "samples = []\n",
    "for SNe,sample_name in zip([blue_SNe,red_SNe],['$c <0$','$c\\geq0$']):\n",
    "    SNe = SNe[SNe['logm_err']<2]\n",
    "    sorted_ms,cdf = make_cdf(SNe['logm'])\n",
    "    c = next(colours)\n",
    "    samples.append(SNe.logm)\n",
    "    ax.step(sorted_ms,cdf,label=sample_name,color=c)\n",
    "\n",
    "stat,pval = stats.ks_2samp(samples[0],samples[1])\n",
    "print('KS stat: ',stat,'KS pval: ',pval)\n",
    "ks_stats = []\n",
    "for i in range(1000):\n",
    "    samples = []\n",
    "    for SNe in [blue_SNe,red_SNe]:\n",
    "        c = next(colours)\n",
    "        SNe = SNe[SNe['logm_err']<2]\n",
    "        perturbed = perturb_arr_normal(SNe['logm'],SNe['logm_err'],SNe['logm_err'])\n",
    "        sorted_ms,cdf = make_cdf(perturbed)\n",
    "        ax.step(sorted_ms,cdf,linewidth=0.025,color=c)\n",
    "        samples.append(perturbed)\n",
    "    stat,pval = stats.ks_2samp(samples[0],samples[1])\n",
    "    ks_stats.append([stat,pval])\n",
    "ks_stats = np.array(ks_stats)   \n",
    "ax.set_xlabel('$\\log (M/M_{\\odot})$',size=20)\n",
    "ax.set_ylabel('$F(M)$',size=20)\n",
    "ax.legend(loc='upper left',fontsize=16)\n",
    "print('KS mean: ',np.mean(ks_stats,axis=0))\n",
    "print('KS std: ',np.std(ks_stats,axis=0))"
   ]
  },
  {
   "cell_type": "markdown",
   "metadata": {},
   "source": [
    "We can see that the mean KS values are slightly different from the fiducial one, although well within the uncertainty. But look at the variance of that p-value - it's huge. In this case, the samples are fairly close, but what if we choose a different colour to split our sample at"
   ]
  },
  {
   "cell_type": "code",
   "execution_count": 28,
   "metadata": {},
   "outputs": [
    {
     "data": {
      "application/vnd.jupyter.widget-view+json": {
       "model_id": "77cfe2e7776f4cf5a50305d86ece36fd",
       "version_major": 2,
       "version_minor": 0
      },
      "text/plain": [
       "Canvas(toolbar=Toolbar(toolitems=[('Home', 'Reset original view', 'home', 'home'), ('Back', 'Back to previous …"
      ]
     },
     "metadata": {},
     "output_type": "display_data"
    },
    {
     "name": "stdout",
     "output_type": "stream",
     "text": [
      "KS stat:  0.08837029773206201 KS pval:  0.06855218953212117\n",
      "KS mean:  [0.08589423 0.09477723]\n",
      "KS std:  [0.008213   0.05355329]\n"
     ]
    }
   ],
   "source": [
    "stretch_cond = pantheon['c']<-0.05\n",
    "blue_SNe = pantheon[stretch_cond]\n",
    "red_SNe = pantheon[~stretch_cond]\n",
    "colours = itertools.cycle(['c','r'])\n",
    "\n",
    "f,ax=plt.subplots(figsize=(8,6.5))\n",
    "\n",
    "samples = []\n",
    "for SNe,sample_name in zip([blue_SNe,red_SNe],['$c <0$','$c\\geq0$']):\n",
    "    SNe = SNe[SNe['logm_err']<2]\n",
    "    sorted_ms,cdf = make_cdf(SNe['logm'])\n",
    "    c = next(colours)\n",
    "    samples.append(SNe.logm)\n",
    "    ax.step(sorted_ms,cdf,label=sample_name,color=c)\n",
    "stat,pval = stats.ks_2samp(samples[0],samples[1])\n",
    "print('KS stat: ',stat,'KS pval: ',pval)\n",
    "ks_stats = []\n",
    "for i in range(1000):\n",
    "    samples = []\n",
    "    for SNe in [blue_SNe,red_SNe]:\n",
    "        c = next(colours)\n",
    "        SNe = SNe[SNe['logm_err']<2]\n",
    "        perturbed = perturb_arr_normal(SNe['logm'],SNe['logm_err'],SNe['logm_err'])\n",
    "        sorted_ms,cdf = make_cdf(perturbed)\n",
    "        ax.step(sorted_ms,cdf,linewidth=0.025,color=c)\n",
    "        samples.append(perturbed)\n",
    "    stat,pval = stats.ks_2samp(samples[0],samples[1])\n",
    "    ks_stats.append([stat,pval])\n",
    "ks_stats = np.array(ks_stats)   \n",
    "ax.set_xlabel('$\\log (M/M_{\\odot})$',size=20)\n",
    "ax.set_ylabel('$F(M)$',size=20)\n",
    "ax.legend(loc='upper left',fontsize=16)\n",
    "\n",
    "print('KS mean: ',np.mean(ks_stats,axis=0))\n",
    "print('KS std: ',np.std(ks_stats,axis=0))"
   ]
  },
  {
   "cell_type": "code",
   "execution_count": 30,
   "metadata": {},
   "outputs": [
    {
     "data": {
      "application/vnd.jupyter.widget-view+json": {
       "model_id": "3a657a1711bf447cb0f1940039c0e169",
       "version_major": 2,
       "version_minor": 0
      },
      "text/plain": [
       "Canvas(toolbar=Toolbar(toolitems=[('Home', 'Reset original view', 'home', 'home'), ('Back', 'Back to previous …"
      ]
     },
     "metadata": {},
     "output_type": "display_data"
    },
    {
     "name": "stdout",
     "output_type": "stream",
     "text": [
      "KS stat:  0.08474691142868208 KS pval:  0.08080865507690549\n",
      "KS mean:  [0.08576608 0.09642941]\n",
      "KS std:  [0.00848139 0.05513862]\n"
     ]
    }
   ],
   "source": [
    "stretch_cond = pantheon['c']<-0.05\n",
    "blue_SNe = pantheon[stretch_cond]\n",
    "red_SNe = pantheon[~stretch_cond]\n",
    "colours = itertools.cycle(['c','r'])\n",
    "\n",
    "f,ax=plt.subplots(figsize=(8,6.5))\n",
    "\n",
    "samples = []\n",
    "for SNe,sample_name in zip([blue_SNe,red_SNe],['$c <0$','$c\\geq0$']):\n",
    "    SNe = SNe[SNe['logm_err']<5]\n",
    "    sorted_ms,cdf = make_cdf(SNe['logm'])\n",
    "    c = next(colours)\n",
    "    samples.append(SNe.logm)\n",
    "    ax.step(sorted_ms,cdf,label=sample_name,color=c)\n",
    "stat,pval = stats.ks_2samp(samples[0],samples[1])\n",
    "print('KS stat: ',stat,'KS pval: ',pval)\n",
    "ks_stats = []\n",
    "for i in range(1000):\n",
    "    samples = []\n",
    "    for SNe in [blue_SNe,red_SNe]:\n",
    "        c = next(colours)\n",
    "        SNe = SNe[SNe['logm_err']<2]\n",
    "        perturbed = perturb_arr_normal(SNe['logm'],SNe['logm_err'],SNe['logm_err'])\n",
    "        sorted_ms,cdf = make_cdf(perturbed)\n",
    "        ax.step(sorted_ms,cdf,linewidth=0.025,color=c)\n",
    "        samples.append(perturbed)\n",
    "    stat,pval = stats.ks_2samp(samples[0],samples[1])\n",
    "    ks_stats.append([stat,pval])\n",
    "ks_stats = np.array(ks_stats)   \n",
    "ax.set_xlabel('$\\log (M/M_{\\odot})$',size=20)\n",
    "ax.set_ylabel('$F(M)$',size=20)\n",
    "ax.legend(loc='upper left',fontsize=16)\n",
    "\n",
    "print('KS mean: ',np.mean(ks_stats,axis=0))\n",
    "print('KS std: ',np.std(ks_stats,axis=0))"
   ]
  },
  {
   "cell_type": "markdown",
   "metadata": {},
   "source": [
    "Our fiducial value is dangerously close to the \"magical\" 0.05, but our resamples produce a more confusing picture -- the mean is larger, but the spread suggests that there's a non-zero chance that the p-value is actually <0.05! "
   ]
  },
  {
   "cell_type": "markdown",
   "metadata": {},
   "source": [
    "## Whatever, cool But I came here for upper limits!"
   ]
  },
  {
   "cell_type": "markdown",
   "metadata": {},
   "source": [
    "Let's have a look at where our limits lie in the mass plane"
   ]
  },
  {
   "cell_type": "code",
   "execution_count": 33,
   "metadata": {},
   "outputs": [
    {
     "data": {
      "application/vnd.jupyter.widget-view+json": {
       "model_id": "f1d32d265c954d8ba388f0ecff8bc4e4",
       "version_major": 2,
       "version_minor": 0
      },
      "text/plain": [
       "Canvas(toolbar=Toolbar(toolitems=[('Home', 'Reset original view', 'home', 'home'), ('Back', 'Back to previous …"
      ]
     },
     "metadata": {},
     "output_type": "display_data"
    },
    {
     "name": "stderr",
     "output_type": "stream",
     "text": [
      "<ipython-input-33-e196271e331d>:16: RuntimeWarning: More than 20 figures have been opened. Figures created through the pyplot interface (`matplotlib.pyplot.figure`) are retained until explicitly closed and may consume too much memory. (To control this warning, see the rcParam `figure.max_open_warning`).\n",
      "  f,ax=plt.subplots(figsize=(8,6.5))\n"
     ]
    },
    {
     "data": {
      "application/vnd.jupyter.widget-view+json": {
       "model_id": "aa04c27b9c0742349d36e054659925ac",
       "version_major": 2,
       "version_minor": 0
      },
      "text/plain": [
       "Canvas(toolbar=Toolbar(toolitems=[('Home', 'Reset original view', 'home', 'home'), ('Back', 'Back to previous …"
      ]
     },
     "metadata": {},
     "output_type": "display_data"
    },
    {
     "data": {
      "text/plain": [
       "Text(0, 0.5, '$F(M)$')"
      ]
     },
     "execution_count": 33,
     "metadata": {},
     "output_type": "execute_result"
    }
   ],
   "source": [
    "f,ax=plt.subplots(figsize=(8,6.5))\n",
    "colours = itertools.cycle(['purple','y'])\n",
    "for SNe,sample_name in zip([low_stretch_SNe,high_stretch_SNe],['$x_1 <0$','$x_1\\geq0$']):\n",
    "    limits = SNe[SNe['logm_err']>=2]\n",
    "    SNe = SNe[SNe['logm_err']<2]\n",
    "    sorted_ms,cdf = make_cdf(SNe['logm'])\n",
    "    c = next(colours)\n",
    "    ax.step(sorted_ms,cdf,color=c,label=sample_name)\n",
    "    for l in limits.logm.values:\n",
    "        ax.vlines(l,0,0.2,color=c,linestyle='--')\n",
    "ax.legend(fontsize=16)\n",
    "ax.set_xlabel('$\\log (M/M_{\\odot})$',size=20)\n",
    "ax.set_ylabel('$F(M)$',size=20)\n",
    "\n",
    "colours = itertools.cycle(['c','r'])\n",
    "f,ax=plt.subplots(figsize=(8,6.5))\n",
    "for SNe,sample_name in zip([blue_SNe,red_SNe],['$c <0$','$c\\geq0$']):\n",
    "    limits = SNe[SNe['logm_err']>=2]\n",
    "    SNe = SNe[SNe['logm_err']<2]\n",
    "    sorted_ms,cdf = make_cdf(SNe['logm'])\n",
    "    c = next(colours)\n",
    "    ax.step(sorted_ms,cdf,color=c,label=sample_name)\n",
    "    for l in limits.logm.values:\n",
    "        ax.vlines(l,0,0.2,color=c,linestyle='--')\n",
    "ax.legend(fontsize=16)\n",
    "ax.set_xlabel('$\\log (M/M_{\\odot})$',size=20)\n",
    "ax.set_ylabel('$F(M)$',size=20)\n"
   ]
  },
  {
   "cell_type": "markdown",
   "metadata": {},
   "source": [
    "Hmm, that's not showing us much. What happens if we see how the CDF changes compared to the one with no limits, if we assume that the limits are detections?"
   ]
  },
  {
   "cell_type": "code",
   "execution_count": 34,
   "metadata": {},
   "outputs": [
    {
     "name": "stderr",
     "output_type": "stream",
     "text": [
      "<ipython-input-34-dec294d69976>:1: RuntimeWarning: More than 20 figures have been opened. Figures created through the pyplot interface (`matplotlib.pyplot.figure`) are retained until explicitly closed and may consume too much memory. (To control this warning, see the rcParam `figure.max_open_warning`).\n",
      "  f,ax=plt.subplots(figsize=(8,6.5))\n"
     ]
    },
    {
     "data": {
      "application/vnd.jupyter.widget-view+json": {
       "model_id": "b25e1700b8ac44e392eb1d512befd235",
       "version_major": 2,
       "version_minor": 0
      },
      "text/plain": [
       "Canvas(toolbar=Toolbar(toolitems=[('Home', 'Reset original view', 'home', 'home'), ('Back', 'Back to previous …"
      ]
     },
     "metadata": {},
     "output_type": "display_data"
    },
    {
     "data": {
      "text/plain": [
       "<matplotlib.legend.Legend at 0x2ba1833a00a0>"
      ]
     },
     "execution_count": 34,
     "metadata": {},
     "output_type": "execute_result"
    }
   ],
   "source": [
    "f,ax=plt.subplots(figsize=(8,6.5))\n",
    "\n",
    "colours = itertools.cycle(['c','r'])\n",
    "for SNe,sample_name in zip([blue_SNe,red_SNe],['$c <0$','$c\\geq0$']):\n",
    "    #SNe = SNe[SNe['logm_err']<2]\n",
    "    sorted_ms,cdf = make_cdf(SNe['logm'])\n",
    "    c = next(colours)\n",
    "    ax.step(sorted_ms,cdf,label=sample_name,color=c)\n",
    "\n",
    "for i in range(100):\n",
    "    for SNe in [blue_SNe,red_SNe]:\n",
    "        c = next(colours)\n",
    "        SNe = SNe[SNe['logm_err']<2]\n",
    "        perturbed = perturb_arr_normal(SNe['logm'],SNe['logm_err'],SNe['logm_err'])\n",
    "        sorted_ms,cdf = make_cdf(perturbed)\n",
    "        ax.step(sorted_ms,cdf,linewidth=0.025,color=c)\n",
    "        \n",
    "    \n",
    "ax.set_xlabel('$\\log (M/M_{\\odot})$',size=20)\n",
    "ax.set_ylabel('$F(M)$',size=20)\n",
    "ax.legend(loc='upper left',fontsize=16)\n"
   ]
  },
  {
   "cell_type": "markdown",
   "metadata": {},
   "source": [
    "Let's see if we can impute our limits using Stan. We'll assume the true values of our non-detections are drawn from the same distribution as the detections. Let's model them as random variables obeying the same likelihood. Our \"prior\" is flat, but we constrain them to be below or equal to the reported upper limit.\n",
    "So, detections $m_i \\sim \\mathcal{N} (\\mu, \\sigma)$ and limits $l_i \\sim \\mathcal{N} (\\mu, \\sigma)$"
   ]
  },
  {
   "cell_type": "code",
   "execution_count": 35,
   "metadata": {},
   "outputs": [],
   "source": [
    "detections = pantheon[(pantheon['logm_err']<2)].sort_values('logm')#&(pantheon['logm']>=6.5)]\n",
    "limits = pantheon[(pantheon['logm_err']>=2)].sort_values('logm')# &(pantheon['logm']>6.5)].sort_values('logm')"
   ]
  },
  {
   "cell_type": "code",
   "execution_count": 36,
   "metadata": {},
   "outputs": [],
   "source": [
    "import stan_utility"
   ]
  },
  {
   "cell_type": "code",
   "execution_count": 38,
   "metadata": {},
   "outputs": [
    {
     "name": "stdout",
     "output_type": "stream",
     "text": [
      "Using cached StanModel\n"
     ]
    },
    {
     "name": "stderr",
     "output_type": "stream",
     "text": [
      "<ipython-input-38-23f50145c1f5>:15: RuntimeWarning: More than 20 figures have been opened. Figures created through the pyplot interface (`matplotlib.pyplot.figure`) are retained until explicitly closed and may consume too much memory. (To control this warning, see the rcParam `figure.max_open_warning`).\n",
      "  f,ax=plt.subplots()\n"
     ]
    },
    {
     "data": {
      "application/vnd.jupyter.widget-view+json": {
       "model_id": "7f801a1b25b847e883e37f84016e7e4f",
       "version_major": 2,
       "version_minor": 0
      },
      "text/plain": [
       "Canvas(toolbar=Toolbar(toolitems=[('Home', 'Reset original view', 'home', 'home'), ('Back', 'Back to previous …"
      ]
     },
     "metadata": {},
     "output_type": "display_data"
    }
   ],
   "source": [
    "\n",
    "\n",
    "data = dict(\n",
    "    N_obs = len(detections),\n",
    "    N_cens = len(limits),\n",
    "    y_obs = detections.logm.values,\n",
    "    y_cens = limits.logm.values\n",
    "    )\n",
    "\n",
    "from des_sn_hosts.utils import stan_utility\n",
    "model =stan_utility.compile_model('stan_models/normal_survival.stan')           \n",
    "\n",
    "fit =model.sampling(data=data, seed=1234, iter=int(2000),warmup=1000,n_jobs=4)\n",
    "\n",
    "chains=fit.extract()\n",
    "\n",
    "f,ax=plt.subplots()\n",
    "ax.scatter(limits.logm,np.median(chains['latent_y_cens_raw'],axis=0))\n",
    "    \n",
    "ax.set_xlabel('$\\log (M/M_{\\odot})$',size=20)\n",
    "ax.set_ylabel('Mean Pull',size=20)\n",
    "all_log_ms = np.concatenate([np.mean(chains['latent_y_cens'],axis=0).T,detections.logm.values.T])"
   ]
  },
  {
   "cell_type": "markdown",
   "metadata": {},
   "source": [
    "We can see that on average, limits that are not well constrained get pulled further than those that are very tight constraints. "
   ]
  },
  {
   "cell_type": "code",
   "execution_count": 39,
   "metadata": {},
   "outputs": [
    {
     "name": "stderr",
     "output_type": "stream",
     "text": [
      "<ipython-input-39-db501ac67f6f>:1: RuntimeWarning: More than 20 figures have been opened. Figures created through the pyplot interface (`matplotlib.pyplot.figure`) are retained until explicitly closed and may consume too much memory. (To control this warning, see the rcParam `figure.max_open_warning`).\n",
      "  f,ax=plt.subplots(figsize=(8,6.5))\n"
     ]
    },
    {
     "data": {
      "application/vnd.jupyter.widget-view+json": {
       "model_id": "e35b8c940f2846c7baacc53a8a9da83c",
       "version_major": 2,
       "version_minor": 0
      },
      "text/plain": [
       "Canvas(toolbar=Toolbar(toolitems=[('Home', 'Reset original view', 'home', 'home'), ('Back', 'Back to previous …"
      ]
     },
     "metadata": {},
     "output_type": "display_data"
    },
    {
     "data": {
      "text/plain": [
       "Text(0, 0.5, '$F(M)$')"
      ]
     },
     "execution_count": 39,
     "metadata": {},
     "output_type": "execute_result"
    }
   ],
   "source": [
    "f,ax=plt.subplots(figsize=(8,6.5))\n",
    "for mass_array,name in zip([pantheon.logm,detections.logm,all_log_ms],['Raw data','Raw data (detections only)','Imputed']):\n",
    "    sorted_ms,cdf = make_cdf(mass_array)\n",
    "    ax.step(sorted_ms,cdf,label=name)\n",
    "ax.legend()\n",
    "    \n",
    "ax.set_xlabel('$\\log (M/M_{\\odot})$',size=20)\n",
    "ax.set_ylabel('$F(M)$',size=20)"
   ]
  },
  {
   "cell_type": "code",
   "execution_count": 51,
   "metadata": {},
   "outputs": [],
   "source": [
    "f,ax=plt.subplots(figsize=(8,6.5))\n",
    "ax.hist(pantheon.logm,density=True,histtype='step',bins=25,label='Data: All values')\n",
    "ax.hist(detections.logm,density=True,histtype='step',bins=25,label='Data: Detections')\n",
    "ax.hist(all_log_ms,density=True,histtype='step',bins=25,label='Detections and imputed limits')\n",
    "ax.legend(loc='upper left')\n",
    "plt.savefig(FIG_DIR+'mass_hist_imputed_normal')"
   ]
  },
  {
   "cell_type": "code",
   "execution_count": 40,
   "metadata": {},
   "outputs": [
    {
     "name": "stderr",
     "output_type": "stream",
     "text": [
      "INFO:pystan:COMPILING THE C++ CODE FOR MODEL anon_model_91c80dea74a6643bc8a20be9337d6b89 NOW.\n",
      "/media/data3/wiseman/anaconda3/lib/python3.8/site-packages/Cython/Compiler/Main.py:369: FutureWarning: Cython directive 'language_level' not set, using 2 for now (Py2). This will change in a later release! File: /tmp/tmpau0umh3j/stanfit4anon_model_91c80dea74a6643bc8a20be9337d6b89_7093793590826835597.pyx\n",
      "  tree = Parsing.p_module(s, pxd, full_module_name)\n"
     ]
    },
    {
     "name": "stdout",
     "output_type": "stream",
     "text": [
      "Using cached StanModel\n"
     ]
    },
    {
     "name": "stderr",
     "output_type": "stream",
     "text": [
      "<ipython-input-40-2a23ebff2538>:20: RuntimeWarning: More than 20 figures have been opened. Figures created through the pyplot interface (`matplotlib.pyplot.figure`) are retained until explicitly closed and may consume too much memory. (To control this warning, see the rcParam `figure.max_open_warning`).\n",
      "  f,ax=plt.subplots(figsize=(8,6.5))\n"
     ]
    },
    {
     "data": {
      "application/vnd.jupyter.widget-view+json": {
       "model_id": "4ddf9eb7cd2e4069abf30ab0cf587b13",
       "version_major": 2,
       "version_minor": 0
      },
      "text/plain": [
       "Canvas(toolbar=Toolbar(toolitems=[('Home', 'Reset original view', 'home', 'home'), ('Back', 'Back to previous …"
      ]
     },
     "metadata": {},
     "output_type": "display_data"
    },
    {
     "name": "stderr",
     "output_type": "stream",
     "text": [
      "<ipython-input-40-2a23ebff2538>:28: RuntimeWarning: More than 20 figures have been opened. Figures created through the pyplot interface (`matplotlib.pyplot.figure`) are retained until explicitly closed and may consume too much memory. (To control this warning, see the rcParam `figure.max_open_warning`).\n",
      "  f,ax=plt.subplots(figsize=(8,6.5))\n"
     ]
    },
    {
     "data": {
      "application/vnd.jupyter.widget-view+json": {
       "model_id": "7da93340595f46a190a0a007c4386fe9",
       "version_major": 2,
       "version_minor": 0
      },
      "text/plain": [
       "Canvas(toolbar=Toolbar(toolitems=[('Home', 'Reset original view', 'home', 'home'), ('Back', 'Back to previous …"
      ]
     },
     "metadata": {},
     "output_type": "display_data"
    },
    {
     "data": {
      "text/plain": [
       "Text(0, 0.5, '$f(M)$')"
      ]
     },
     "execution_count": 40,
     "metadata": {},
     "output_type": "execute_result"
    }
   ],
   "source": [
    "# Find out the difference between fitted Gaussians if we include detections or not\n",
    "data = dict(\n",
    "    N_obs = len(detections),\n",
    "    y_obs = detections.logm.values,\n",
    "    )\n",
    "model =stan_utility.compile_model('stan_models/normal_nolimits.stan')\n",
    "fit =model.sampling(data=data, seed=1234, iter=int(2000),warmup=1000,n_jobs=4)\n",
    "\n",
    "chains_nolims = fit.extract()\n",
    "\n",
    "data = dict(\n",
    "    N_obs = len(pantheon),\n",
    "    y_obs = pantheon.logm.values,\n",
    "    )\n",
    "model =stan_utility.compile_model('stan_models/normal_nolimits.stan')\n",
    "fit =model.sampling(data=data, seed=1234, iter=int(2000),warmup=1000,n_jobs=4)\n",
    "chains_all = fit.extract()\n",
    "\n",
    "\n",
    "\n",
    "f,ax=plt.subplots(figsize=(8,6.5))\n",
    "ax.hist(pantheon.logm,density=True,histtype='step',bins=25,label='Data: All values')\n",
    "ax.hist(detections.logm,density=True,histtype='step',bins=25,label='Data: Detections')\n",
    "    \n",
    "ax.set_xlabel('$\\log (M/M_{\\odot})$',size=20)\n",
    "ax.set_ylabel('$f(M)$',size=20)\n",
    "\n",
    "\n",
    "f,ax=plt.subplots(figsize=(8,6.5))\n",
    "ax.hist(pantheon.logm,density=True,histtype='step',bins=25)\n",
    "ax.hist(detections.logm,density=True,histtype='step',bins=25)\n",
    "xs = np.linspace(5,13,100)\n",
    "ys = stats.norm(np.median(chains_nolims['mu']),np.median(chains_nolims['sigma'])).pdf(xs)\n",
    "ax.step(xs,ys,label='Fit: detections only')\n",
    "xs = np.linspace(5,13,100)\n",
    "ys = stats.norm(np.median(chains_all['mu']),np.median(chains_all['sigma'])).pdf(xs)\n",
    "ax.step(xs,ys,label='Fit: detections and limits')\n",
    "ax.legend(loc='upper left')\n",
    "    \n",
    "ax.set_xlabel('$\\log (M/M_{\\odot})$',size=20)\n",
    "ax.set_ylabel('$f(M)$',size=20)\n"
   ]
  },
  {
   "cell_type": "markdown",
   "metadata": {},
   "source": [
    "We can see that the Gaussian doesn't change much no matter if we leave out non-detections. However, the Gaussian is clearly not the best approximation of the data. Let's come back to that.\n",
    "\n",
    "First, let's factor in that our data has uncertainties. We'll treat each stellar mass detection as a random variable $m_i$, with its _true_ value some location $\\mu_i$ and its uncertainty $\\sigma_i$.\n",
    "\n",
    "$m_i \\sim \\mathcal{N}(\\mu_i,\\sigma_i)$,\n",
    "\n",
    "$\\mu_i \\sim \\mathcal{N}(\\mu,\\sigma)$"
   ]
  },
  {
   "cell_type": "code",
   "execution_count": 43,
   "metadata": {},
   "outputs": [],
   "source": [
    "# We'll run this on both the full data set, and only the detections\n",
    "data = dict(\n",
    "    N_obs = len(detections),\n",
    "    y_obs = detections.logm.values,\n",
    "    sigma_obs = detections.logm_err.values,\n",
    "    )\n",
    "model =stan_utility.compile_model('stan_models/normal_nolimits_errs.stan')\n",
    "fit =model.sampling(data=data, seed=1234, iter=int(2000),warmup=1000,n_jobs=4)\n",
    "\n",
    "chains_normal = fit.extract()\n",
    "\n",
    "\n",
    "\n",
    "data = dict(\n",
    "    N_obs = len(pantheon),\n",
    "    y_obs = pantheon.logm.values,\n",
    "    sigma_obs = pantheon.logm_err.values,\n",
    "    )\n",
    "model =stan_utility.compile_model('stan_models/normal_nolimits_errs.stan')\n",
    "fit =model.sampling(data=data, seed=1234, iter=int(2000),warmup=1000,n_jobs=4)\n",
    "\n",
    "chains_all = fit.extract()\n",
    "\n",
    "    "
   ]
  },
  {
   "cell_type": "code",
   "execution_count": 46,
   "metadata": {},
   "outputs": [
    {
     "name": "stderr",
     "output_type": "stream",
     "text": [
      "<ipython-input-46-623a783f92c9>:1: RuntimeWarning: More than 20 figures have been opened. Figures created through the pyplot interface (`matplotlib.pyplot.figure`) are retained until explicitly closed and may consume too much memory. (To control this warning, see the rcParam `figure.max_open_warning`).\n",
      "  f,ax=plt.subplots(figsize=(8,6.5))\n"
     ]
    },
    {
     "data": {
      "application/vnd.jupyter.widget-view+json": {
       "model_id": "ece0094cb83e428fb9ad5bb099312946",
       "version_major": 2,
       "version_minor": 0
      },
      "text/plain": [
       "Canvas(toolbar=Toolbar(toolitems=[('Home', 'Reset original view', 'home', 'home'), ('Back', 'Back to previous …"
      ]
     },
     "metadata": {},
     "output_type": "display_data"
    },
    {
     "data": {
      "text/plain": [
       "Text(0, 0.5, '$F(M)$')"
      ]
     },
     "execution_count": 46,
     "metadata": {},
     "output_type": "execute_result"
    }
   ],
   "source": [
    "f,ax=plt.subplots(figsize=(8,6.5))\n",
    "ax.hist(pantheon.logm,density=True,histtype='step',bins=25)\n",
    "ax.hist(detections.logm,density=True,histtype='step',bins=25)\n",
    "xs = np.linspace(5,13,100)\n",
    "ys = stats.norm(np.median(chains_normal['mu']),np.median(chains_normal['sigma'])).pdf(xs)\n",
    "xs = np.linspace(5,13,100)\n",
    "ys = stats.norm(np.median(chains_all['mu']),np.median(chains_all['sigma'])).pdf(xs)\n",
    "ax.step(xs,ys)\n",
    "    \n",
    "ax.set_xlabel('$\\log (M/M_{\\odot})$',size=20)\n",
    "ax.set_ylabel('$F(M)$',size=20)\n"
   ]
  },
  {
   "cell_type": "markdown",
   "metadata": {},
   "source": [
    "Now, we can clearly see that the Gaussian doesn't fit, no matter how we try and take errors into account. Let's do a mixture model, and incorporate the limits like we did before.\n",
    "\n",
    "We now have a mixture of two Gaussians with parameters $(\\mu_1,\\sigma_1)$ and $(\\mu_2,\\sigma_2)$, which are split by a mixing scale $\\theta_1+\\theta_2 = 1$\n",
    "\n",
    "Our likelihood is $\\pi(y_1,...,y_K| \\mu_1,\\sigma_1, \\mu_2, \\sigma_2, \\theta_1, \\theta_2) = \\sum_{k=1}^K \\theta_1 \\sim \\mathcal{N}(y_k|\\mu_1,\\sigma_1)+ \\theta_2 \\sim \\mathcal{N}(y_k|\\mu_2,\\sigma_2)$\n",
    "\n",
    "Where $y_k = (\\mu_1,...,\\mu_i),(l_1,...,l_j)$"
   ]
  },
  {
   "cell_type": "code",
   "execution_count": 47,
   "metadata": {},
   "outputs": [
    {
     "name": "stderr",
     "output_type": "stream",
     "text": [
      "INFO:pystan:COMPILING THE C++ CODE FOR MODEL anon_model_4f9c299467590986152130388acfe60e NOW.\n",
      "/media/data3/wiseman/anaconda3/lib/python3.8/site-packages/Cython/Compiler/Main.py:369: FutureWarning: Cython directive 'language_level' not set, using 2 for now (Py2). This will change in a later release! File: /tmp/tmpmbtnky3r/stanfit4anon_model_4f9c299467590986152130388acfe60e_6837631226634595990.pyx\n",
      "  tree = Parsing.p_module(s, pxd, full_module_name)\n",
      "<ipython-input-47-9a521b2f42a0>:12: RuntimeWarning: More than 20 figures have been opened. Figures created through the pyplot interface (`matplotlib.pyplot.figure`) are retained until explicitly closed and may consume too much memory. (To control this warning, see the rcParam `figure.max_open_warning`).\n",
      "  f,ax=plt.subplots(figsize=(8,6.5))\n"
     ]
    },
    {
     "data": {
      "application/vnd.jupyter.widget-view+json": {
       "model_id": "94e8c046b551451f851225238057bae3",
       "version_major": 2,
       "version_minor": 0
      },
      "text/plain": [
       "Canvas(toolbar=Toolbar(toolitems=[('Home', 'Reset original view', 'home', 'home'), ('Back', 'Back to previous …"
      ]
     },
     "metadata": {},
     "output_type": "display_data"
    },
    {
     "data": {
      "text/plain": [
       "<matplotlib.legend.Legend at 0x2ba1854c4bb0>"
      ]
     },
     "execution_count": 47,
     "metadata": {},
     "output_type": "execute_result"
    }
   ],
   "source": [
    "data = dict(\n",
    "    N_obs = len(detections),\n",
    "    N_cens = len(limits),\n",
    "    y_obs = detections.logm.values,\n",
    "    y_cens = limits.logm.values,\n",
    "    y_err = detections.logm_err.values,\n",
    "    )\n",
    "model =stan_utility.compile_model('stan_models/normal_survival_mix.stan')\n",
    "fit =model.sampling(data=data, seed=1234, iter=int(2000),warmup=1000,n_jobs=4)\n",
    "chains_all_errs = fit.extract()\n",
    "\n",
    "f,ax=plt.subplots(figsize=(8,6.5))\n",
    "ax.hist(pantheon.logm,density=True,histtype='step',bins=25,label='All')\n",
    "ax.hist(detections.logm,density=True,histtype='step',bins=25,label='Detections only')\n",
    "xs = np.linspace(5,13,100)\n",
    "#ys = stats.norm(np.median(chains_all['mu1']),np.median(chains_all['sigma1'])).pdf(xs)+stats.norm(np.median(chains_all['mu2']),np.median(chains_all['sigma2'])).pdf(xs)\n",
    "#ax.step(xs,ys)\n",
    "\n",
    "all_log_ms = np.concatenate([np.median(chains_all_errs['latent_y_cens'],axis=0).T,detections.logm.values.T])\n",
    "ax.hist(all_log_ms,density=True,histtype='step',bins=25,label='Imputed')\n",
    "xs = np.linspace(5,13,100)\n",
    "bw = ((np.max(xs)-np.min(xs))/100)\n",
    "ys = np.median(chains_all_errs['theta'])*stats.norm(np.median(chains_all_errs['mu1']),np.median(chains_all_errs['sigma1'])).pdf(xs)+ (1-np.median(chains_all_errs['theta']))*stats.norm(np.median(chains_all_errs['mu2']),np.median(chains_all_errs['sigma2'])).pdf(xs)\n",
    "ax.step(xs,ys)\n",
    "ax.legend()"
   ]
  },
  {
   "cell_type": "code",
   "execution_count": 48,
   "metadata": {},
   "outputs": [
    {
     "name": "stderr",
     "output_type": "stream",
     "text": [
      "/media/data3/wiseman/anaconda3/lib/python3.8/site-packages/arviz/plots/backends/matplotlib/traceplot.py:219: RuntimeWarning: More than 20 figures have been opened. Figures created through the pyplot interface (`matplotlib.pyplot.figure`) are retained until explicitly closed and may consume too much memory. (To control this warning, see the rcParam `figure.max_open_warning`).\n",
      "  fig = plt.figure(**backend_kwargs)\n"
     ]
    },
    {
     "data": {
      "application/vnd.jupyter.widget-view+json": {
       "model_id": "a9191394eaff4af8b21b933abdb8d6ca",
       "version_major": 2,
       "version_minor": 0
      },
      "text/plain": [
       "Canvas(toolbar=Toolbar(toolitems=[('Home', 'Reset original view', 'home', 'home'), ('Back', 'Back to previous …"
      ]
     },
     "metadata": {},
     "output_type": "display_data"
    },
    {
     "data": {
      "text/plain": [
       "array([[<matplotlib.axes._subplots.AxesSubplot object at 0x2ba19e38d370>,\n",
       "        <matplotlib.axes._subplots.AxesSubplot object at 0x2ba19e78a280>],\n",
       "       [<matplotlib.axes._subplots.AxesSubplot object at 0x2ba19e7c4160>,\n",
       "        <matplotlib.axes._subplots.AxesSubplot object at 0x2ba19e80ddf0>],\n",
       "       [<matplotlib.axes._subplots.AxesSubplot object at 0x2ba19e8479a0>,\n",
       "        <matplotlib.axes._subplots.AxesSubplot object at 0x2ba19e8903a0>],\n",
       "       [<matplotlib.axes._subplots.AxesSubplot object at 0x2ba19e8cd250>,\n",
       "        <matplotlib.axes._subplots.AxesSubplot object at 0x2ba19e90cf40>],\n",
       "       [<matplotlib.axes._subplots.AxesSubplot object at 0x2ba19e948a90>,\n",
       "        <matplotlib.axes._subplots.AxesSubplot object at 0x2ba19f089760>]],\n",
       "      dtype=object)"
      ]
     },
     "execution_count": 48,
     "metadata": {},
     "output_type": "execute_result"
    }
   ],
   "source": [
    "# Plot the trace to see if our mixture has worked\n",
    "import arviz as az\n",
    "az.plot_trace(fit,var_names=['mu1','sigma1','mu2','sigma2','latent_y_cens'],compact=True,)\n"
   ]
  },
  {
   "cell_type": "markdown",
   "metadata": {},
   "source": [
    "Now let's do some comparisons between red and blue SNe, and compare to what the Kaplan-Meier estimator gets"
   ]
  },
  {
   "cell_type": "code",
   "execution_count": 49,
   "metadata": {},
   "outputs": [],
   "source": [
    "import lifelines"
   ]
  },
  {
   "cell_type": "code",
   "execution_count": 50,
   "metadata": {},
   "outputs": [
    {
     "name": "stderr",
     "output_type": "stream",
     "text": [
      "INFO:numexpr.utils:Note: NumExpr detected 32 cores but \"NUMEXPR_MAX_THREADS\" not set, so enforcing safe limit of 8.\n"
     ]
    },
    {
     "data": {
      "text/plain": [
       "<lifelines.KaplanMeierFitter:\"KM_estimate\", fitted with 1002 total observations, 94 left-censored observations>"
      ]
     },
     "execution_count": 50,
     "metadata": {},
     "output_type": "execute_result"
    }
   ],
   "source": [
    "T = pantheon['logm']\n",
    "E = pantheon['logm_err'].apply(lambda x: x<2).astype(int)\n",
    "detections = pantheon[pantheon['logm_err']<2]\n",
    "\n",
    "from lifelines import KaplanMeierFitter\n",
    "kmf = KaplanMeierFitter()\n",
    "\n",
    "kmf.fit_left_censoring(T, E)\n"
   ]
  },
  {
   "cell_type": "code",
   "execution_count": 51,
   "metadata": {},
   "outputs": [
    {
     "name": "stderr",
     "output_type": "stream",
     "text": [
      "<ipython-input-51-be53903f8691>:1: RuntimeWarning: More than 20 figures have been opened. Figures created through the pyplot interface (`matplotlib.pyplot.figure`) are retained until explicitly closed and may consume too much memory. (To control this warning, see the rcParam `figure.max_open_warning`).\n",
      "  f,ax=plt.subplots(figsize=(8,6.5))\n"
     ]
    },
    {
     "data": {
      "application/vnd.jupyter.widget-view+json": {
       "model_id": "637176a480764509b4ae19b14630ee2e",
       "version_major": 2,
       "version_minor": 0
      },
      "text/plain": [
       "Canvas(toolbar=Toolbar(toolitems=[('Home', 'Reset original view', 'home', 'home'), ('Back', 'Back to previous …"
      ]
     },
     "metadata": {},
     "output_type": "display_data"
    }
   ],
   "source": [
    "f,ax=plt.subplots(figsize=(8,6.5))\n",
    "kmf.plot_cumulative_density(label='Kaplan-Meier left_censored',color='g')\n",
    "\n",
    "sorted_ms,cdf = make_cdf(pantheon['logm'])\n",
    "ax.step(sorted_ms,cdf,label='All data',color='y')\n",
    "sorted_ms,cdf = make_cdf(detections['logm'])\n",
    "ax.step(sorted_ms,cdf,label='Detections only',color='r')\n",
    "sorted_ms,cdf = make_cdf(all_log_ms)\n",
    "ax.step(sorted_ms,cdf,label='Detections and imputed limits (Single Gaussian)',color='c')\n",
    "ax.legend()\n",
    "ax.set_xlabel('$\\log (M/M_{\\odot})$',size=20)\n",
    "ax.set_ylabel('$F(M)$',size=20)\n",
    "ax.set_xlim(5,12)\n",
    "plt.tight_layout()\n"
   ]
  },
  {
   "cell_type": "code",
   "execution_count": 52,
   "metadata": {},
   "outputs": [
    {
     "name": "stderr",
     "output_type": "stream",
     "text": [
      "<ipython-input-52-faacea754f72>:7: RuntimeWarning: More than 20 figures have been opened. Figures created through the pyplot interface (`matplotlib.pyplot.figure`) are retained until explicitly closed and may consume too much memory. (To control this warning, see the rcParam `figure.max_open_warning`).\n",
      "  f,ax=plt.subplots(figsize=(8,6.5))\n"
     ]
    },
    {
     "data": {
      "application/vnd.jupyter.widget-view+json": {
       "model_id": "7b079e640a694ce3ac896a36afac9c6a",
       "version_major": 2,
       "version_minor": 0
      },
      "text/plain": [
       "Canvas(toolbar=Toolbar(toolitems=[('Home', 'Reset original view', 'home', 'home'), ('Back', 'Back to previous …"
      ]
     },
     "metadata": {},
     "output_type": "display_data"
    },
    {
     "name": "stdout",
     "output_type": "stream",
     "text": [
      "Using cached StanModel\n"
     ]
    },
    {
     "name": "stderr",
     "output_type": "stream",
     "text": [
      "<ipython-input-52-faacea754f72>:7: RuntimeWarning: More than 20 figures have been opened. Figures created through the pyplot interface (`matplotlib.pyplot.figure`) are retained until explicitly closed and may consume too much memory. (To control this warning, see the rcParam `figure.max_open_warning`).\n",
      "  f,ax=plt.subplots(figsize=(8,6.5))\n"
     ]
    },
    {
     "data": {
      "application/vnd.jupyter.widget-view+json": {
       "model_id": "5001f91151614a288caa86bcbd05af1e",
       "version_major": 2,
       "version_minor": 0
      },
      "text/plain": [
       "Canvas(toolbar=Toolbar(toolitems=[('Home', 'Reset original view', 'home', 'home'), ('Back', 'Back to previous …"
      ]
     },
     "metadata": {},
     "output_type": "display_data"
    },
    {
     "name": "stdout",
     "output_type": "stream",
     "text": [
      "Using cached StanModel\n"
     ]
    }
   ],
   "source": [
    "\n",
    "\n",
    "stretch_cond = pantheon['c']<0\n",
    "blue_SNe = pantheon[stretch_cond]\n",
    "red_SNe = pantheon[~stretch_cond]\n",
    "colours = itertools.cycle(['c','r'])\n",
    "imputed_data = []\n",
    "for SNe,sample_name in zip([blue_SNe,red_SNe],['$c <0$','$c\\geq0$']):\n",
    "    f,ax=plt.subplots(figsize=(8,6.5))\n",
    "    detections = SNe[SNe['logm_err']<2]\n",
    "    limits = SNe[SNe['logm_err']>2]\n",
    "    \n",
    "    c = next(colours)\n",
    "    data = dict(\n",
    "        N_obs = len(detections),\n",
    "        N_cens = len(limits),\n",
    "        y_obs = detections.logm.values,\n",
    "        y_cens = limits.logm.values\n",
    "        )\n",
    "    \n",
    "    model =stan_utility.compile_model('stan_models/normal_survival.stan')\n",
    "\n",
    "    fit =model.sampling(data=data, seed=1234, iter=int(2000),warmup=1000,n_jobs=4)\n",
    "\n",
    "    chains=fit.extract()\n",
    "\n",
    "    all_log_ms = np.concatenate([np.mean(chains['latent_y_cens'],axis=0).T,detections.logm.values.T])\n",
    "    sorted_ms,cdf = make_cdf(detections['logm'])\n",
    "    ax.step(sorted_ms,cdf,label='%s: Detections only'%sample_name,color='grey')\n",
    "    sorted_ms,cdf = make_cdf(all_log_ms)\n",
    "    imputed_data.append([sorted_ms,cdf])\n",
    "    ax.step(sorted_ms,cdf,label='%s: Detections and imputed limits (Single Gaussian)'%sample_name,color=c)\n",
    "    ax.legend()\n",
    "    ax.set_xlabel('$\\log (M/M_{\\odot})$',size=20)\n",
    "    ax.set_ylabel('$F(M)$',size=20)\n",
    "    ax.set_xlim(6.5,12)\n",
    "    plt.tight_layout()"
   ]
  },
  {
   "cell_type": "code",
   "execution_count": 53,
   "metadata": {},
   "outputs": [
    {
     "name": "stderr",
     "output_type": "stream",
     "text": [
      "<ipython-input-53-7e2b911e189f>:1: RuntimeWarning: More than 20 figures have been opened. Figures created through the pyplot interface (`matplotlib.pyplot.figure`) are retained until explicitly closed and may consume too much memory. (To control this warning, see the rcParam `figure.max_open_warning`).\n",
      "  f,ax=plt.subplots(figsize=(8,6.5))\n"
     ]
    },
    {
     "data": {
      "application/vnd.jupyter.widget-view+json": {
       "model_id": "658d5af291d5411a846d2187774e3a00",
       "version_major": 2,
       "version_minor": 0
      },
      "text/plain": [
       "Canvas(toolbar=Toolbar(toolitems=[('Home', 'Reset original view', 'home', 'home'), ('Back', 'Back to previous …"
      ]
     },
     "metadata": {},
     "output_type": "display_data"
    },
    {
     "name": "stderr",
     "output_type": "stream",
     "text": [
      "<ipython-input-53-7e2b911e189f>:19: RuntimeWarning: More than 20 figures have been opened. Figures created through the pyplot interface (`matplotlib.pyplot.figure`) are retained until explicitly closed and may consume too much memory. (To control this warning, see the rcParam `figure.max_open_warning`).\n",
      "  f,ax=plt.subplots(figsize=(8,6.5))\n"
     ]
    },
    {
     "data": {
      "application/vnd.jupyter.widget-view+json": {
       "model_id": "d37daf31404c44c3834debbabc9e7a5e",
       "version_major": 2,
       "version_minor": 0
      },
      "text/plain": [
       "Canvas(toolbar=Toolbar(toolitems=[('Home', 'Reset original view', 'home', 'home'), ('Back', 'Back to previous …"
      ]
     },
     "metadata": {},
     "output_type": "display_data"
    }
   ],
   "source": [
    "f,ax=plt.subplots(figsize=(8,6.5))\n",
    "for counter,sample_name in enumerate(['$c <0$','$c\\geq0$']):\n",
    "    c = next(colours)\n",
    "    sorted_ms,cdf = imputed_data[counter]\n",
    "    ax.step(sorted_ms,cdf,label='%s: Detections and imputed limits (Single Gaussian)'%sample_name,color=c)\n",
    "\n",
    "for SNe,sample_name in zip([blue_SNe,red_SNe],['$c <0$','$c\\geq0$']):\n",
    "    SNe = SNe[SNe['logm_err']<2]\n",
    "    sorted_ms,cdf = make_cdf(SNe['logm'])\n",
    "    c = next(colours)\n",
    "    ax.step(sorted_ms,cdf,label='%s: Detections Only'%sample_name,color=c,lw=0.5,linestyle='--')\n",
    "ax.legend()\n",
    "ax.set_xlabel('$\\log (M/M_{\\odot})$',size=20)\n",
    "ax.set_ylabel('$F(M)$',size=20)\n",
    "ax.set_xlim(6.5,12)\n",
    "plt.tight_layout()\n",
    "\n",
    "\n",
    "f,ax=plt.subplots(figsize=(8,6.5))\n",
    "for counter,sample_name in enumerate(['$c <0$','$c\\geq0$']):\n",
    "    c = next(colours)\n",
    "    \n",
    "    ax.hist(imputed_data[counter][0],label='%s: Detections and imputed limits (Single Gaussian)'%sample_name,color=c,histtype='step',density=True,bins=25)\n",
    "\n",
    "for SNe,sample_name in zip([blue_SNe,red_SNe],['$c <0$','$c\\geq0$']):\n",
    "    SNe = SNe[SNe['logm_err']<2]\n",
    "    \n",
    "    c = next(colours)\n",
    "    ax.hist(SNe['logm'],label='%s: Detections Only'%sample_name,color=c,lw=0.5,linestyle='--',histtype='step',density=True,bins=25)\n",
    "ax.legend(loc='upper left')\n",
    "ax.set_xlabel('$\\log (M/M_{\\odot})$',size=20)\n",
    "ax.set_ylabel('$f(M)$',size=20)\n",
    "ax.set_xlim(5,12.5)\n",
    "#ax.set_ylim(0,0.7)\n",
    "plt.tight_layout()\n"
   ]
  },
  {
   "cell_type": "code",
   "execution_count": 56,
   "metadata": {},
   "outputs": [
    {
     "name": "stderr",
     "output_type": "stream",
     "text": [
      "<ipython-input-56-4ef0ac2dd679>:10: RuntimeWarning: More than 20 figures have been opened. Figures created through the pyplot interface (`matplotlib.pyplot.figure`) are retained until explicitly closed and may consume too much memory. (To control this warning, see the rcParam `figure.max_open_warning`).\n",
      "  f,ax=plt.subplots(figsize=(8,6.5))\n"
     ]
    },
    {
     "data": {
      "application/vnd.jupyter.widget-view+json": {
       "model_id": "d9aca187354f42b080cee8796d2606d1",
       "version_major": 2,
       "version_minor": 0
      },
      "text/plain": [
       "Canvas(toolbar=Toolbar(toolitems=[('Home', 'Reset original view', 'home', 'home'), ('Back', 'Back to previous …"
      ]
     },
     "metadata": {},
     "output_type": "display_data"
    },
    {
     "name": "stdout",
     "output_type": "stream",
     "text": [
      "Using cached StanModel\n"
     ]
    },
    {
     "name": "stderr",
     "output_type": "stream",
     "text": [
      "<ipython-input-56-4ef0ac2dd679>:10: RuntimeWarning: More than 20 figures have been opened. Figures created through the pyplot interface (`matplotlib.pyplot.figure`) are retained until explicitly closed and may consume too much memory. (To control this warning, see the rcParam `figure.max_open_warning`).\n",
      "  f,ax=plt.subplots(figsize=(8,6.5))\n"
     ]
    },
    {
     "data": {
      "application/vnd.jupyter.widget-view+json": {
       "model_id": "7d55aa6794f0442aa2421f9e110c2c29",
       "version_major": 2,
       "version_minor": 0
      },
      "text/plain": [
       "Canvas(toolbar=Toolbar(toolitems=[('Home', 'Reset original view', 'home', 'home'), ('Back', 'Back to previous …"
      ]
     },
     "metadata": {},
     "output_type": "display_data"
    },
    {
     "name": "stdout",
     "output_type": "stream",
     "text": [
      "Using cached StanModel\n"
     ]
    }
   ],
   "source": [
    "pantheon = pantheon[pantheon['logm']>6.1]\n",
    "stretch_cond = pantheon['c']<0\n",
    "blue_SNe = pantheon[stretch_cond]\n",
    "red_SNe = pantheon[~stretch_cond]\n",
    "colours = itertools.cycle(['c','r'])\n",
    "imputed_data = []\n",
    "fit_params = []\n",
    "\n",
    "for SNe,sample_name in zip([blue_SNe,red_SNe],['$c <0$','$c\\geq0$']):\n",
    "    f,ax=plt.subplots(figsize=(8,6.5))\n",
    "    detections = SNe[SNe['logm_err']<2]\n",
    "    limits = SNe[SNe['logm_err']>2]\n",
    "    \n",
    "    c = next(colours)\n",
    "    data = dict(\n",
    "        N_obs = len(detections),\n",
    "        N_cens = len(limits),\n",
    "        y_obs = detections.logm.values,\n",
    "        y_cens = limits.logm.values,\n",
    "        y_err = detections.logm_err.values,\n",
    "        )\n",
    "    model =stan_utility.compile_model('stan_models/normal_survival_mix.stan')\n",
    "    fit =model.sampling(data=data, seed=1234, iter=int(2000),warmup=1000,n_jobs=4)\n",
    "    chains_all_errs = fit.extract()\n",
    "\n",
    "    all_log_ms = np.concatenate([chains_all_errs['latent_y_cens'].T,chains_all_errs['latent_y'].T])\n",
    "    sorted_ms,cdf = make_cdf(detections['logm'])\n",
    "    ax.step(sorted_ms,cdf,label='%s: Detections only'%sample_name,color='grey')\n",
    "    sorted_ms,cdf = make_cdf(np.mean(all_log_ms,axis=1))\n",
    "    imputed_data.append([all_log_ms,sorted_ms,cdf])\n",
    "    fit_params.append([chains_all_errs['mu1'],chains_all_errs['mu2'],chains_all_errs['sigma1'],chains_all_errs['sigma2'],chains_all_errs['theta']])\n",
    "    ax.step(sorted_ms,cdf,label='%s: Detections and imputed limits (Gaussian Mixture)'%sample_name,color=c)\n",
    "    \n",
    "    T = detections['logm']\n",
    "    E = detections['logm_err'].apply(lambda x: x<2).astype(int)\n",
    "    \n",
    "\n",
    "    from lifelines import KaplanMeierFitter\n",
    "    kmf = KaplanMeierFitter()\n",
    "\n",
    "    kmf.fit_left_censoring(T, E)\n",
    "    kmf.plot_cumulative_density(label='Kaplan-Meier left_censored',color='m')\n",
    "    ax.legend()\n",
    "    ax.set_xlabel('$\\log (M/M_{\\odot})$',size=20)\n",
    "    ax.set_ylabel('$F(M)$',size=20)\n",
    "    ax.set_xlim(5,12)\n",
    "    plt.tight_layout()\n",
    "\n"
   ]
  },
  {
   "cell_type": "code",
   "execution_count": 57,
   "metadata": {},
   "outputs": [],
   "source": [
    "\n",
    "data = az.from_pystan(fit)\n"
   ]
  },
  {
   "cell_type": "code",
   "execution_count": 58,
   "metadata": {},
   "outputs": [
    {
     "name": "stderr",
     "output_type": "stream",
     "text": [
      "/media/data3/wiseman/anaconda3/lib/python3.8/site-packages/arviz/plots/backends/matplotlib/traceplot.py:219: RuntimeWarning: More than 20 figures have been opened. Figures created through the pyplot interface (`matplotlib.pyplot.figure`) are retained until explicitly closed and may consume too much memory. (To control this warning, see the rcParam `figure.max_open_warning`).\n",
      "  fig = plt.figure(**backend_kwargs)\n"
     ]
    },
    {
     "data": {
      "application/vnd.jupyter.widget-view+json": {
       "model_id": "deddd7a76f984f40a341fa9be76f485e",
       "version_major": 2,
       "version_minor": 0
      },
      "text/plain": [
       "Canvas(toolbar=Toolbar(toolitems=[('Home', 'Reset original view', 'home', 'home'), ('Back', 'Back to previous …"
      ]
     },
     "metadata": {},
     "output_type": "display_data"
    },
    {
     "name": "stderr",
     "output_type": "stream",
     "text": [
      "/media/data3/wiseman/anaconda3/lib/python3.8/site-packages/arviz/plots/jointplot.py:144: UserWarning: plot_joint will be deprecated. Please use plot_pair instead.\n",
      "  warnings.warn(\"plot_joint will be deprecated. Please use plot_pair instead.\")\n",
      "/media/data3/wiseman/anaconda3/lib/python3.8/site-packages/arviz/plots/backends/matplotlib/jointplot.py:53: RuntimeWarning: More than 20 figures have been opened. Figures created through the pyplot interface (`matplotlib.pyplot.figure`) are retained until explicitly closed and may consume too much memory. (To control this warning, see the rcParam `figure.max_open_warning`).\n",
      "  fig = plt.figure(**backend_kwargs)\n"
     ]
    },
    {
     "data": {
      "application/vnd.jupyter.widget-view+json": {
       "model_id": "a81b489d2c6e49e8b7b77beb4718bc90",
       "version_major": 2,
       "version_minor": 0
      },
      "text/plain": [
       "Canvas(toolbar=Toolbar(toolitems=[('Home', 'Reset original view', 'home', 'home'), ('Back', 'Back to previous …"
      ]
     },
     "metadata": {},
     "output_type": "display_data"
    },
    {
     "data": {
      "text/plain": [
       "array([<matplotlib.axes._subplots.AxesSubplot object at 0x2ba1a46c3340>,\n",
       "       <matplotlib.axes._subplots.AxesSubplot object at 0x2ba1a46e2430>,\n",
       "       <matplotlib.axes._subplots.AxesSubplot object at 0x2ba1a4700520>],\n",
       "      dtype=object)"
      ]
     },
     "execution_count": 58,
     "metadata": {},
     "output_type": "execute_result"
    }
   ],
   "source": [
    "az.plot_trace(data,var_names=['mu1','sigma1','mu2','sigma2','latent_y_cens'],compact=True,)\n",
    "az.plot_joint(data,var_names=['mu1','mu2',],kind='kde',)"
   ]
  },
  {
   "cell_type": "code",
   "execution_count": 59,
   "metadata": {},
   "outputs": [
    {
     "name": "stderr",
     "output_type": "stream",
     "text": [
      "<ipython-input-59-1e3f14a23db4>:2: RuntimeWarning: More than 20 figures have been opened. Figures created through the pyplot interface (`matplotlib.pyplot.figure`) are retained until explicitly closed and may consume too much memory. (To control this warning, see the rcParam `figure.max_open_warning`).\n",
      "  f,ax=plt.subplots(figsize=(8,6.5))\n"
     ]
    },
    {
     "data": {
      "application/vnd.jupyter.widget-view+json": {
       "model_id": "0925df68e5824b5ebcb7cd74967ca831",
       "version_major": 2,
       "version_minor": 0
      },
      "text/plain": [
       "Canvas(toolbar=Toolbar(toolitems=[('Home', 'Reset original view', 'home', 'home'), ('Back', 'Back to previous …"
      ]
     },
     "metadata": {},
     "output_type": "display_data"
    }
   ],
   "source": [
    "colours = itertools.cycle(['c','r'])\n",
    "f,ax=plt.subplots(figsize=(8,6.5))\n",
    "for counter,sample_name in enumerate(['$c <0$','$c\\geq0$']):\n",
    "    c = next(colours)\n",
    "    all_imputed = imputed_data[counter][0]\n",
    "    for i in range(len(all_imputed)):\n",
    "        label=None\n",
    "        if i ==0:\n",
    "            label='Imputed %s'%sample_name\n",
    "        sorted_ms,cdf = make_cdf(all_imputed[:,i])\n",
    "        ax.step(sorted_ms,cdf,linewidth=0.05,color=c,alpha=0.2,label=label)\n",
    "for SNe,sample_name in zip([blue_SNe,red_SNe],['$c <0$','$c\\geq0$']):\n",
    "    SNe = SNe[SNe['logm_err']<2]\n",
    "    \n",
    "    c = next(colours)\n",
    "    sorted_ms,cdf = make_cdf(SNe['logm'])\n",
    "    ax.step(sorted_ms,cdf,label='%s: Detections only'%sample_name,color=c,linestyle='--')\n",
    "    \n",
    "    T = SNe['logm']\n",
    "    E = SNe['logm_err'].apply(lambda x: x<2).astype(int)\n",
    "    \n",
    "\n",
    "    from lifelines import KaplanMeierFitter\n",
    "    kmf = KaplanMeierFitter()\n",
    "\n",
    "    kmf.fit_left_censoring(T, E)\n",
    "    kmf.plot_cumulative_density(label='Kaplan-Meier left_censored',color=c,ci_show=False,linestyle=':')\n",
    "leg =ax.legend(loc='upper left')\n",
    "for lh in leg.legendHandles:\n",
    "    lh.set_alpha(1)\n",
    "    lh.set_linewidth(1)\n",
    "ax.set_xlabel('$\\log (M/M_{\\odot})$',size=20)\n",
    "ax.set_ylabel('$F(M)$',size=20)\n",
    "ax.set_xlim(6.5,12)\n",
    "#ax.set_ylim(0,0.7)\n",
    "plt.tight_layout()\n"
   ]
  },
  {
   "cell_type": "code",
   "execution_count": 62,
   "metadata": {},
   "outputs": [
    {
     "name": "stderr",
     "output_type": "stream",
     "text": [
      "<ipython-input-62-6bd314a4fe0f>:1: RuntimeWarning: More than 20 figures have been opened. Figures created through the pyplot interface (`matplotlib.pyplot.figure`) are retained until explicitly closed and may consume too much memory. (To control this warning, see the rcParam `figure.max_open_warning`).\n",
      "  f,ax=plt.subplots(figsize=(8,6.5))\n"
     ]
    },
    {
     "data": {
      "application/vnd.jupyter.widget-view+json": {
       "model_id": "9e359f40803a4542b2eaebcff6d2b94b",
       "version_major": 2,
       "version_minor": 0
      },
      "text/plain": [
       "Canvas(toolbar=Toolbar(toolitems=[('Home', 'Reset original view', 'home', 'home'), ('Back', 'Back to previous …"
      ]
     },
     "metadata": {},
     "output_type": "display_data"
    }
   ],
   "source": [
    "\n",
    "f,ax=plt.subplots(figsize=(8,6.5))\n",
    "for counter,sample_name in enumerate(['$c <0$','$c\\geq0$']):\n",
    "    c = next(colours)\n",
    "    params = fit_params[counter]\n",
    "    \n",
    "    mu1,mu2,sigma1,sigma2,theta = [params[i] for i in range(len(params))]\n",
    "    \n",
    "    #ax.hist(imputed_data[counter][0],label='%s: Detections and imputed limits (Gaussian Mixture)'%sample_name,color=c*4000,histtype='step',density=True,bins=25)\n",
    "    xs = np.linspace(5,13,1000)\n",
    "    bw = ((np.max(xs)-np.min(xs))/100)\n",
    "    for j in range(len(mu1)):\n",
    "        label=None\n",
    "        if j ==0:\n",
    "            label='Imputed %s'%sample_name\n",
    "        ys = theta[j]*stats.norm(mu1[j],sigma1[j]).pdf(xs)+ ((1-theta[j])*stats.norm(mu2[j],sigma2[j]).pdf(xs))\n",
    "        ax.step(xs,ys,linewidth=0.05,c=c,alpha=0.1,label=label)\n",
    "for SNe,sample_name in zip([blue_SNe,red_SNe],['$c <0$','$c\\geq0$']):\n",
    "    SNe = SNe[SNe['logm_err']<2]\n",
    "    \n",
    "    c = next(colours)\n",
    "    #ax.hist(SNe['logm'],label='%s: Detections Only'%sample_name,color=c,linestyle='--',histtype='step',density=True,bins=25,)\n",
    "    plot_hist(SNe['logm'],SNe['logm'].min(),SNe['logm'].max(),0.25,axhist=ax,label='%s: Detections Only'%sample_name,color=c,linestyle='--',density=True)\n",
    "\n",
    "ax.set_xlabel('$\\log (M/M_{\\odot})$',size=20)\n",
    "ax.set_ylabel('$f(M)$',size=20)\n",
    "ax.set_xlim(6.5,12.)\n",
    "#ax.set_ylim(0,0.7)\n",
    "plt.tight_layout()\n",
    "leg =ax.legend(loc='upper left')\n",
    "for lh in leg.legendHandles:\n",
    "    lh.set_alpha(1)\n",
    "    lh.set_linewidth(1)\n"
   ]
  }
 ],
 "metadata": {
  "kernelspec": {
   "display_name": "Python 3",
   "language": "python",
   "name": "python3"
  },
  "language_info": {
   "codemirror_mode": {
    "name": "ipython",
    "version": 3
   },
   "file_extension": ".py",
   "mimetype": "text/x-python",
   "name": "python",
   "nbconvert_exporter": "python",
   "pygments_lexer": "ipython3",
   "version": "3.8.3"
  }
 },
 "nbformat": 4,
 "nbformat_minor": 4
}
